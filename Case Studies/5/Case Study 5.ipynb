{
 "cells": [
  {
   "cell_type": "markdown",
   "id": "247f2a60-b4fb-4591-a8c2-eba4fe89dde7",
   "metadata": {},
   "source": [
    "# **Case Study 5: NLP Classifier**"
   ]
  },
  {
   "cell_type": "markdown",
   "id": "e4a38901-9bfc-4028-9905-28d9fac3cf9d",
   "metadata": {},
   "source": [
    "## **Importing Libraries**"
   ]
  },
  {
   "cell_type": "code",
   "execution_count": null,
   "id": "ece97f6f-5750-42cf-b695-7ecd55dc2276",
   "metadata": {},
   "outputs": [],
   "source": []
  }
 ],
 "metadata": {
  "kernelspec": {
   "display_name": "Python 3 (ipykernel)",
   "language": "python",
   "name": "python3"
  },
  "language_info": {
   "codemirror_mode": {
    "name": "ipython",
    "version": 3
   },
   "file_extension": ".py",
   "mimetype": "text/x-python",
   "name": "python",
   "nbconvert_exporter": "python",
   "pygments_lexer": "ipython3",
   "version": "3.9.12"
  }
 },
 "nbformat": 4,
 "nbformat_minor": 5
}
