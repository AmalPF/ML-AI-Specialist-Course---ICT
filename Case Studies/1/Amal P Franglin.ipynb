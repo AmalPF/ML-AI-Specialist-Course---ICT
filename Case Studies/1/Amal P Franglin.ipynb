{
 "cells": [
  {
   "cell_type": "markdown",
   "id": "5e73f49e-09a8-4aca-a130-98a0d8e40037",
   "metadata": {},
   "source": [
    "# **CASE STUDY 1**"
   ]
  },
  {
   "cell_type": "markdown",
   "id": "6b0d2c49-3f6b-4c45-8dc6-1903f9354e39",
   "metadata": {},
   "source": [
    "# **Importing Required Libraries**"
   ]
  },
  {
   "cell_type": "code",
   "execution_count": 1,
   "id": "48686e88-1646-45b4-a3ff-c25a9422f3d1",
   "metadata": {},
   "outputs": [],
   "source": [
    "import numpy as np\n",
    "import pandas as pd\n",
    "\n",
    "%matplotlib inline\n",
    "import matplotlib.pyplot as plt\n",
    "import seaborn as sns"
   ]
  },
  {
   "cell_type": "markdown",
   "id": "78bceaf2-16a5-4728-877e-368a6e196cce",
   "metadata": {},
   "source": [
    "# **Loading the Dataset**"
   ]
  },
  {
   "cell_type": "code",
   "execution_count": 2,
   "id": "40a4a2e7-2a0a-4e1e-ab1a-70e04934aa74",
   "metadata": {},
   "outputs": [],
   "source": [
    "data = pd.read_csv(\"train_loan.csv\")"
   ]
  },
  {
   "cell_type": "code",
   "execution_count": 3,
   "id": "be866502-649e-4e15-9fe4-5bfbe87eb811",
   "metadata": {},
   "outputs": [
    {
     "data": {
      "text/html": [
       "<div>\n",
       "<style scoped>\n",
       "    .dataframe tbody tr th:only-of-type {\n",
       "        vertical-align: middle;\n",
       "    }\n",
       "\n",
       "    .dataframe tbody tr th {\n",
       "        vertical-align: top;\n",
       "    }\n",
       "\n",
       "    .dataframe thead th {\n",
       "        text-align: right;\n",
       "    }\n",
       "</style>\n",
       "<table border=\"1\" class=\"dataframe\">\n",
       "  <thead>\n",
       "    <tr style=\"text-align: right;\">\n",
       "      <th></th>\n",
       "      <th>Loan_ID</th>\n",
       "      <th>Gender</th>\n",
       "      <th>Married</th>\n",
       "      <th>Dependents</th>\n",
       "      <th>Education</th>\n",
       "      <th>Self_Employed</th>\n",
       "      <th>ApplicantIncome</th>\n",
       "      <th>CoapplicantIncome</th>\n",
       "      <th>LoanAmount</th>\n",
       "      <th>Loan_Amount_Term</th>\n",
       "      <th>Credit_History</th>\n",
       "      <th>Property_Area</th>\n",
       "      <th>Loan_Status</th>\n",
       "    </tr>\n",
       "  </thead>\n",
       "  <tbody>\n",
       "    <tr>\n",
       "      <th>0</th>\n",
       "      <td>LP001002</td>\n",
       "      <td>Male</td>\n",
       "      <td>No</td>\n",
       "      <td>0</td>\n",
       "      <td>Graduate</td>\n",
       "      <td>No</td>\n",
       "      <td>5849</td>\n",
       "      <td>0.0</td>\n",
       "      <td>NaN</td>\n",
       "      <td>360.0</td>\n",
       "      <td>1.0</td>\n",
       "      <td>Urban</td>\n",
       "      <td>Y</td>\n",
       "    </tr>\n",
       "    <tr>\n",
       "      <th>1</th>\n",
       "      <td>LP001003</td>\n",
       "      <td>Male</td>\n",
       "      <td>Yes</td>\n",
       "      <td>1</td>\n",
       "      <td>Graduate</td>\n",
       "      <td>No</td>\n",
       "      <td>4583</td>\n",
       "      <td>1508.0</td>\n",
       "      <td>128.0</td>\n",
       "      <td>360.0</td>\n",
       "      <td>1.0</td>\n",
       "      <td>Rural</td>\n",
       "      <td>N</td>\n",
       "    </tr>\n",
       "    <tr>\n",
       "      <th>2</th>\n",
       "      <td>LP001005</td>\n",
       "      <td>Male</td>\n",
       "      <td>Yes</td>\n",
       "      <td>0</td>\n",
       "      <td>Graduate</td>\n",
       "      <td>Yes</td>\n",
       "      <td>3000</td>\n",
       "      <td>0.0</td>\n",
       "      <td>66.0</td>\n",
       "      <td>360.0</td>\n",
       "      <td>1.0</td>\n",
       "      <td>Urban</td>\n",
       "      <td>Y</td>\n",
       "    </tr>\n",
       "    <tr>\n",
       "      <th>3</th>\n",
       "      <td>LP001006</td>\n",
       "      <td>Male</td>\n",
       "      <td>Yes</td>\n",
       "      <td>0</td>\n",
       "      <td>Not Graduate</td>\n",
       "      <td>No</td>\n",
       "      <td>2583</td>\n",
       "      <td>2358.0</td>\n",
       "      <td>120.0</td>\n",
       "      <td>360.0</td>\n",
       "      <td>1.0</td>\n",
       "      <td>Urban</td>\n",
       "      <td>Y</td>\n",
       "    </tr>\n",
       "    <tr>\n",
       "      <th>4</th>\n",
       "      <td>LP001008</td>\n",
       "      <td>Male</td>\n",
       "      <td>No</td>\n",
       "      <td>0</td>\n",
       "      <td>Graduate</td>\n",
       "      <td>No</td>\n",
       "      <td>6000</td>\n",
       "      <td>0.0</td>\n",
       "      <td>141.0</td>\n",
       "      <td>360.0</td>\n",
       "      <td>1.0</td>\n",
       "      <td>Urban</td>\n",
       "      <td>Y</td>\n",
       "    </tr>\n",
       "  </tbody>\n",
       "</table>\n",
       "</div>"
      ],
      "text/plain": [
       "    Loan_ID Gender Married Dependents     Education Self_Employed  \\\n",
       "0  LP001002   Male      No          0      Graduate            No   \n",
       "1  LP001003   Male     Yes          1      Graduate            No   \n",
       "2  LP001005   Male     Yes          0      Graduate           Yes   \n",
       "3  LP001006   Male     Yes          0  Not Graduate            No   \n",
       "4  LP001008   Male      No          0      Graduate            No   \n",
       "\n",
       "   ApplicantIncome  CoapplicantIncome  LoanAmount  Loan_Amount_Term  \\\n",
       "0             5849                0.0         NaN             360.0   \n",
       "1             4583             1508.0       128.0             360.0   \n",
       "2             3000                0.0        66.0             360.0   \n",
       "3             2583             2358.0       120.0             360.0   \n",
       "4             6000                0.0       141.0             360.0   \n",
       "\n",
       "   Credit_History Property_Area Loan_Status  \n",
       "0             1.0         Urban           Y  \n",
       "1             1.0         Rural           N  \n",
       "2             1.0         Urban           Y  \n",
       "3             1.0         Urban           Y  \n",
       "4             1.0         Urban           Y  "
      ]
     },
     "execution_count": 3,
     "metadata": {},
     "output_type": "execute_result"
    }
   ],
   "source": [
    "data.head()"
   ]
  },
  {
   "cell_type": "code",
   "execution_count": 4,
   "id": "6e79aded-e6d2-443b-8b19-1c71910c44c9",
   "metadata": {},
   "outputs": [
    {
     "data": {
      "text/plain": [
       "(614, 13)"
      ]
     },
     "execution_count": 4,
     "metadata": {},
     "output_type": "execute_result"
    }
   ],
   "source": [
    "data.shape"
   ]
  },
  {
   "cell_type": "code",
   "execution_count": 5,
   "id": "c7a121d1-77af-483c-8c48-be0b57d3ff08",
   "metadata": {},
   "outputs": [
    {
     "name": "stdout",
     "output_type": "stream",
     "text": [
      "<class 'pandas.core.frame.DataFrame'>\n",
      "RangeIndex: 614 entries, 0 to 613\n",
      "Data columns (total 13 columns):\n",
      " #   Column             Non-Null Count  Dtype  \n",
      "---  ------             --------------  -----  \n",
      " 0   Loan_ID            614 non-null    object \n",
      " 1   Gender             601 non-null    object \n",
      " 2   Married            611 non-null    object \n",
      " 3   Dependents         599 non-null    object \n",
      " 4   Education          614 non-null    object \n",
      " 5   Self_Employed      582 non-null    object \n",
      " 6   ApplicantIncome    614 non-null    int64  \n",
      " 7   CoapplicantIncome  614 non-null    float64\n",
      " 8   LoanAmount         592 non-null    float64\n",
      " 9   Loan_Amount_Term   600 non-null    float64\n",
      " 10  Credit_History     564 non-null    float64\n",
      " 11  Property_Area      614 non-null    object \n",
      " 12  Loan_Status        614 non-null    object \n",
      "dtypes: float64(4), int64(1), object(8)\n",
      "memory usage: 62.5+ KB\n"
     ]
    }
   ],
   "source": [
    "data.info()"
   ]
  },
  {
   "cell_type": "markdown",
   "id": "7c47ec89-1eef-4b61-941a-2496e8a7997e",
   "metadata": {},
   "source": [
    "The dataset contains 614 instances and 13 features, where 8 are categorical and 5 are numerical features. Loan_Status is the dependent feature and all other columns are the independent featuers."
   ]
  },
  {
   "cell_type": "markdown",
   "id": "5c393ec0-f1b5-4d14-ab22-ea08720c8247",
   "metadata": {},
   "source": [
    "# **Data Preprocessing**"
   ]
  },
  {
   "cell_type": "code",
   "execution_count": 6,
   "id": "424f3ba8-480f-4651-825f-3cd46e781c19",
   "metadata": {},
   "outputs": [
    {
     "data": {
      "text/plain": [
       "Loan_ID               object\n",
       "Gender                object\n",
       "Married               object\n",
       "Dependents            object\n",
       "Education             object\n",
       "Self_Employed         object\n",
       "ApplicantIncome        int64\n",
       "CoapplicantIncome    float64\n",
       "LoanAmount           float64\n",
       "Loan_Amount_Term     float64\n",
       "Credit_History       float64\n",
       "Property_Area         object\n",
       "Loan_Status           object\n",
       "dtype: object"
      ]
     },
     "execution_count": 6,
     "metadata": {},
     "output_type": "execute_result"
    }
   ],
   "source": [
    "data.dtypes"
   ]
  },
  {
   "cell_type": "markdown",
   "id": "bdda7748-c9a0-4f51-831b-da3021d02fa7",
   "metadata": {},
   "source": [
    "## **Numerical Data**"
   ]
  },
  {
   "cell_type": "code",
   "execution_count": 7,
   "id": "9727dfc7-654e-41ef-a555-a83b7c981f06",
   "metadata": {},
   "outputs": [
    {
     "name": "stdout",
     "output_type": "stream",
     "text": [
      "['ApplicantIncome', 'CoapplicantIncome', 'LoanAmount', 'Loan_Amount_Term', 'Credit_History']\n"
     ]
    }
   ],
   "source": [
    "numerical_columns = list(data._get_numeric_data().columns)\n",
    "print(numerical_columns)"
   ]
  },
  {
   "cell_type": "markdown",
   "id": "18f6aff5-03d1-45b9-8e27-eb0d764d9674",
   "metadata": {},
   "source": [
    "### **Handling Missing Values**"
   ]
  },
  {
   "cell_type": "code",
   "execution_count": 8,
   "id": "aad815c1-668b-4f4d-85c7-f4eb0e86f3e7",
   "metadata": {},
   "outputs": [
    {
     "data": {
      "text/plain": [
       "ApplicantIncome       0\n",
       "CoapplicantIncome     0\n",
       "LoanAmount           22\n",
       "Loan_Amount_Term     14\n",
       "Credit_History       50\n",
       "dtype: int64"
      ]
     },
     "execution_count": 8,
     "metadata": {},
     "output_type": "execute_result"
    }
   ],
   "source": [
    "data[numerical_columns].isna().sum()"
   ]
  },
  {
   "cell_type": "code",
   "execution_count": 9,
   "id": "3534b78e-bc71-47ca-8734-fe1b1e3be9ae",
   "metadata": {},
   "outputs": [
    {
     "data": {
      "text/html": [
       "<div>\n",
       "<style scoped>\n",
       "    .dataframe tbody tr th:only-of-type {\n",
       "        vertical-align: middle;\n",
       "    }\n",
       "\n",
       "    .dataframe tbody tr th {\n",
       "        vertical-align: top;\n",
       "    }\n",
       "\n",
       "    .dataframe thead th {\n",
       "        text-align: right;\n",
       "    }\n",
       "</style>\n",
       "<table border=\"1\" class=\"dataframe\">\n",
       "  <thead>\n",
       "    <tr style=\"text-align: right;\">\n",
       "      <th></th>\n",
       "      <th>ApplicantIncome</th>\n",
       "      <th>CoapplicantIncome</th>\n",
       "      <th>LoanAmount</th>\n",
       "      <th>Loan_Amount_Term</th>\n",
       "      <th>Credit_History</th>\n",
       "    </tr>\n",
       "  </thead>\n",
       "  <tbody>\n",
       "    <tr>\n",
       "      <th>count</th>\n",
       "      <td>614.000000</td>\n",
       "      <td>614.000000</td>\n",
       "      <td>592.000000</td>\n",
       "      <td>600.00000</td>\n",
       "      <td>564.000000</td>\n",
       "    </tr>\n",
       "    <tr>\n",
       "      <th>mean</th>\n",
       "      <td>5403.459283</td>\n",
       "      <td>1621.245798</td>\n",
       "      <td>146.412162</td>\n",
       "      <td>342.00000</td>\n",
       "      <td>0.842199</td>\n",
       "    </tr>\n",
       "    <tr>\n",
       "      <th>std</th>\n",
       "      <td>6109.041673</td>\n",
       "      <td>2926.248369</td>\n",
       "      <td>85.587325</td>\n",
       "      <td>65.12041</td>\n",
       "      <td>0.364878</td>\n",
       "    </tr>\n",
       "    <tr>\n",
       "      <th>min</th>\n",
       "      <td>150.000000</td>\n",
       "      <td>0.000000</td>\n",
       "      <td>9.000000</td>\n",
       "      <td>12.00000</td>\n",
       "      <td>0.000000</td>\n",
       "    </tr>\n",
       "    <tr>\n",
       "      <th>25%</th>\n",
       "      <td>2877.500000</td>\n",
       "      <td>0.000000</td>\n",
       "      <td>100.000000</td>\n",
       "      <td>360.00000</td>\n",
       "      <td>1.000000</td>\n",
       "    </tr>\n",
       "    <tr>\n",
       "      <th>50%</th>\n",
       "      <td>3812.500000</td>\n",
       "      <td>1188.500000</td>\n",
       "      <td>128.000000</td>\n",
       "      <td>360.00000</td>\n",
       "      <td>1.000000</td>\n",
       "    </tr>\n",
       "    <tr>\n",
       "      <th>75%</th>\n",
       "      <td>5795.000000</td>\n",
       "      <td>2297.250000</td>\n",
       "      <td>168.000000</td>\n",
       "      <td>360.00000</td>\n",
       "      <td>1.000000</td>\n",
       "    </tr>\n",
       "    <tr>\n",
       "      <th>max</th>\n",
       "      <td>81000.000000</td>\n",
       "      <td>41667.000000</td>\n",
       "      <td>700.000000</td>\n",
       "      <td>480.00000</td>\n",
       "      <td>1.000000</td>\n",
       "    </tr>\n",
       "  </tbody>\n",
       "</table>\n",
       "</div>"
      ],
      "text/plain": [
       "       ApplicantIncome  CoapplicantIncome  LoanAmount  Loan_Amount_Term  \\\n",
       "count       614.000000         614.000000  592.000000         600.00000   \n",
       "mean       5403.459283        1621.245798  146.412162         342.00000   \n",
       "std        6109.041673        2926.248369   85.587325          65.12041   \n",
       "min         150.000000           0.000000    9.000000          12.00000   \n",
       "25%        2877.500000           0.000000  100.000000         360.00000   \n",
       "50%        3812.500000        1188.500000  128.000000         360.00000   \n",
       "75%        5795.000000        2297.250000  168.000000         360.00000   \n",
       "max       81000.000000       41667.000000  700.000000         480.00000   \n",
       "\n",
       "       Credit_History  \n",
       "count      564.000000  \n",
       "mean         0.842199  \n",
       "std          0.364878  \n",
       "min          0.000000  \n",
       "25%          1.000000  \n",
       "50%          1.000000  \n",
       "75%          1.000000  \n",
       "max          1.000000  "
      ]
     },
     "execution_count": 9,
     "metadata": {},
     "output_type": "execute_result"
    }
   ],
   "source": [
    "data.describe()"
   ]
  },
  {
   "cell_type": "code",
   "execution_count": 10,
   "id": "21d987b9-6335-4f79-9e5f-6a2859c3b9fe",
   "metadata": {},
   "outputs": [],
   "source": [
    "# setting the plotting style as 'seaborn'\n",
    "plt.style.use(\"seaborn\")"
   ]
  },
  {
   "cell_type": "code",
   "execution_count": 11,
   "id": "e59af787-75d9-43cc-ab5c-730d7dc4a849",
   "metadata": {},
   "outputs": [
    {
     "data": {
      "image/png": "[encoded data removed]",
      "text/plain": [
       "<Figure size 1296x288 with 1 Axes>"
      ]
     },
     "metadata": {},
     "output_type": "display_data"
    }
   ],
   "source": [
    "# LoanAmount \n",
    "plt.figure(figsize=(18,4))\n",
    "sns.boxplot(x=data['LoanAmount'])\n",
    "plt.xticks(fontsize=12)\n",
    "plt.xlabel(\"Loan Amount\", fontsize=16)\n",
    "plt.show()"
   ]
  },
  {
   "cell_type": "markdown",
   "id": "cdf20030-571f-4e08-bc5f-10a853153afc",
   "metadata": {},
   "source": [
    "Since the feature contains outliers, median will be used to fill the missing values."
   ]
  },
  {
   "cell_type": "code",
   "execution_count": 12,
   "id": "dfa9c22a-1fb1-4db9-a7b9-70ed87576672",
   "metadata": {},
   "outputs": [
    {
     "data": {
      "text/plain": [
       "128.0"
      ]
     },
     "execution_count": 12,
     "metadata": {},
     "output_type": "execute_result"
    }
   ],
   "source": [
    "data['LoanAmount'].median()"
   ]
  },
  {
   "cell_type": "code",
   "execution_count": 13,
   "id": "b8bd40df-0ad0-4be2-a4d1-a5fd0b57fc5a",
   "metadata": {},
   "outputs": [],
   "source": [
    "data['LoanAmount'].fillna(data['LoanAmount'].median(), inplace=True)"
   ]
  },
  {
   "cell_type": "code",
   "execution_count": 14,
   "id": "a1d81923-0afb-4d42-ba2b-85b2fb86f6f7",
   "metadata": {},
   "outputs": [
    {
     "data": {
      "image/png": "[encoded data removed]",
      "text/plain": [
       "<Figure size 1296x288 with 1 Axes>"
      ]
     },
     "metadata": {},
     "output_type": "display_data"
    }
   ],
   "source": [
    "# Loan_Amount_Term \n",
    "plt.figure(figsize=(18,4))\n",
    "sns.boxplot(x=data['Loan_Amount_Term'])\n",
    "plt.xticks(fontsize=12)\n",
    "plt.xlabel(\"Loan Amount Term\", fontsize=16)\n",
    "plt.show()"
   ]
  },
  {
   "cell_type": "code",
   "execution_count": 15,
   "id": "5ed84105-8e00-4f7b-96e6-26e6963f8316",
   "metadata": {},
   "outputs": [
    {
     "data": {
      "text/plain": [
       "360.0    512\n",
       "180.0     44\n",
       "480.0     15\n",
       "NaN       14\n",
       "300.0     13\n",
       "240.0      4\n",
       "84.0       4\n",
       "120.0      3\n",
       "60.0       2\n",
       "36.0       2\n",
       "12.0       1\n",
       "Name: Loan_Amount_Term, dtype: int64"
      ]
     },
     "execution_count": 15,
     "metadata": {},
     "output_type": "execute_result"
    }
   ],
   "source": [
    "data['Loan_Amount_Term'].value_counts(dropna=False)"
   ]
  },
  {
   "cell_type": "markdown",
   "id": "0622adf8-8914-43e8-b4df-d3027548d79e",
   "metadata": {},
   "source": [
    "Here we can use mode to fill the missing values."
   ]
  },
  {
   "cell_type": "code",
   "execution_count": 16,
   "id": "0ba29d17-2178-4a9e-9dc3-67d3873d2305",
   "metadata": {},
   "outputs": [
    {
     "data": {
      "text/plain": [
       "0    360.0\n",
       "Name: Loan_Amount_Term, dtype: float64"
      ]
     },
     "execution_count": 16,
     "metadata": {},
     "output_type": "execute_result"
    }
   ],
   "source": [
    "data['Loan_Amount_Term'].mode()"
   ]
  },
  {
   "cell_type": "code",
   "execution_count": 17,
   "id": "a644f331-a87a-4bb1-8ab3-92651aaf5fc3",
   "metadata": {},
   "outputs": [],
   "source": [
    "data['Loan_Amount_Term'].fillna(data['Loan_Amount_Term'].mode()[0], inplace=True)"
   ]
  },
  {
   "cell_type": "code",
   "execution_count": 18,
   "id": "6355042e-38f2-4c4c-aab1-8f067ae07f1a",
   "metadata": {},
   "outputs": [
    {
     "data": {
      "image/png": "[encoded data removed]",
      "text/plain": [
       "<Figure size 1296x288 with 1 Axes>"
      ]
     },
     "metadata": {},
     "output_type": "display_data"
    }
   ],
   "source": [
    "# Credit_History \n",
    "plt.figure(figsize=(18,4))\n",
    "sns.boxplot(x=data['Credit_History'])\n",
    "plt.xticks(fontsize=12)\n",
    "plt.xlabel(\"Credit History\", fontsize=16)\n",
    "plt.show()"
   ]
  },
  {
   "cell_type": "code",
   "execution_count": 19,
   "id": "684c0eda-06e2-49fa-8bec-d30b54ce7ea8",
   "metadata": {},
   "outputs": [
    {
     "data": {
      "text/plain": [
       "1.0    475\n",
       "0.0     89\n",
       "NaN     50\n",
       "Name: Credit_History, dtype: int64"
      ]
     },
     "execution_count": 19,
     "metadata": {},
     "output_type": "execute_result"
    }
   ],
   "source": [
    "data['Credit_History'].value_counts(dropna=False)"
   ]
  },
  {
   "cell_type": "markdown",
   "id": "e76941a4-abfd-479d-a5c7-4cb90c0ee89d",
   "metadata": {},
   "source": [
    "Here also we can use mode to fill the missing values."
   ]
  },
  {
   "cell_type": "code",
   "execution_count": 20,
   "id": "425bb877-a69a-481a-a4d1-1699194d8b39",
   "metadata": {},
   "outputs": [],
   "source": [
    "data['Credit_History'].fillna(1.0, inplace=True)"
   ]
  },
  {
   "cell_type": "code",
   "execution_count": 21,
   "id": "c8aae9ed-5a50-40ae-b214-6265a8d1d09d",
   "metadata": {},
   "outputs": [
    {
     "data": {
      "text/plain": [
       "ApplicantIncome      0\n",
       "CoapplicantIncome    0\n",
       "LoanAmount           0\n",
       "Loan_Amount_Term     0\n",
       "Credit_History       0\n",
       "dtype: int64"
      ]
     },
     "execution_count": 21,
     "metadata": {},
     "output_type": "execute_result"
    }
   ],
   "source": [
    "data[numerical_columns].isna().sum()"
   ]
  },
  {
   "cell_type": "markdown",
   "id": "c70cc58c-b2ad-4c82-baad-0f8898560eaf",
   "metadata": {},
   "source": [
    "## **Categorical Data**"
   ]
  },
  {
   "cell_type": "code",
   "execution_count": 22,
   "id": "727ae8e1-e18d-4923-883c-95210e8d701e",
   "metadata": {},
   "outputs": [
    {
     "name": "stdout",
     "output_type": "stream",
     "text": [
      "<class 'pandas.core.frame.DataFrame'>\n",
      "RangeIndex: 614 entries, 0 to 613\n",
      "Data columns (total 13 columns):\n",
      " #   Column             Non-Null Count  Dtype  \n",
      "---  ------             --------------  -----  \n",
      " 0   Loan_ID            614 non-null    object \n",
      " 1   Gender             601 non-null    object \n",
      " 2   Married            611 non-null    object \n",
      " 3   Dependents         599 non-null    object \n",
      " 4   Education          614 non-null    object \n",
      " 5   Self_Employed      582 non-null    object \n",
      " 6   ApplicantIncome    614 non-null    int64  \n",
      " 7   CoapplicantIncome  614 non-null    float64\n",
      " 8   LoanAmount         614 non-null    float64\n",
      " 9   Loan_Amount_Term   614 non-null    float64\n",
      " 10  Credit_History     614 non-null    float64\n",
      " 11  Property_Area      614 non-null    object \n",
      " 12  Loan_Status        614 non-null    object \n",
      "dtypes: float64(4), int64(1), object(8)\n",
      "memory usage: 62.5+ KB\n"
     ]
    }
   ],
   "source": [
    "data.info()"
   ]
  },
  {
   "cell_type": "code",
   "execution_count": 23,
   "id": "955b9066-e465-4324-87c9-31f6073365f4",
   "metadata": {},
   "outputs": [
    {
     "data": {
      "text/plain": [
       "['Loan_ID',\n",
       " 'Gender',\n",
       " 'Married',\n",
       " 'Dependents',\n",
       " 'Education',\n",
       " 'Self_Employed',\n",
       " 'Property_Area']"
      ]
     },
     "execution_count": 23,
     "metadata": {},
     "output_type": "execute_result"
    }
   ],
   "source": [
    "categorical_columns = list(data.select_dtypes('object'))\n",
    "categorical_columns.remove('Loan_Status')\n",
    "categorical_columns"
   ]
  },
  {
   "cell_type": "code",
   "execution_count": 24,
   "id": "f5a47e06-e068-448a-9fb6-f29778cbfac4",
   "metadata": {},
   "outputs": [
    {
     "data": {
      "text/plain": [
       "Loan_ID           0\n",
       "Gender           13\n",
       "Married           3\n",
       "Dependents       15\n",
       "Education         0\n",
       "Self_Employed    32\n",
       "Property_Area     0\n",
       "dtype: int64"
      ]
     },
     "execution_count": 24,
     "metadata": {},
     "output_type": "execute_result"
    }
   ],
   "source": [
    "data[categorical_columns].isna().sum()"
   ]
  },
  {
   "cell_type": "code",
   "execution_count": 25,
   "id": "fba8e5e6-e6f8-40e6-b406-5a40a7581d41",
   "metadata": {},
   "outputs": [
    {
     "data": {
      "text/html": [
       "<div>\n",
       "<style scoped>\n",
       "    .dataframe tbody tr th:only-of-type {\n",
       "        vertical-align: middle;\n",
       "    }\n",
       "\n",
       "    .dataframe tbody tr th {\n",
       "        vertical-align: top;\n",
       "    }\n",
       "\n",
       "    .dataframe thead th {\n",
       "        text-align: right;\n",
       "    }\n",
       "</style>\n",
       "<table border=\"1\" class=\"dataframe\">\n",
       "  <thead>\n",
       "    <tr style=\"text-align: right;\">\n",
       "      <th></th>\n",
       "      <th>Loan_ID</th>\n",
       "      <th>Gender</th>\n",
       "      <th>Married</th>\n",
       "      <th>Dependents</th>\n",
       "      <th>Education</th>\n",
       "      <th>Self_Employed</th>\n",
       "      <th>Property_Area</th>\n",
       "      <th>Loan_Status</th>\n",
       "    </tr>\n",
       "  </thead>\n",
       "  <tbody>\n",
       "    <tr>\n",
       "      <th>count</th>\n",
       "      <td>614</td>\n",
       "      <td>601</td>\n",
       "      <td>611</td>\n",
       "      <td>599</td>\n",
       "      <td>614</td>\n",
       "      <td>582</td>\n",
       "      <td>614</td>\n",
       "      <td>614</td>\n",
       "    </tr>\n",
       "    <tr>\n",
       "      <th>unique</th>\n",
       "      <td>614</td>\n",
       "      <td>2</td>\n",
       "      <td>2</td>\n",
       "      <td>4</td>\n",
       "      <td>2</td>\n",
       "      <td>2</td>\n",
       "      <td>3</td>\n",
       "      <td>2</td>\n",
       "    </tr>\n",
       "    <tr>\n",
       "      <th>top</th>\n",
       "      <td>LP001002</td>\n",
       "      <td>Male</td>\n",
       "      <td>Yes</td>\n",
       "      <td>0</td>\n",
       "      <td>Graduate</td>\n",
       "      <td>No</td>\n",
       "      <td>Semiurban</td>\n",
       "      <td>Y</td>\n",
       "    </tr>\n",
       "    <tr>\n",
       "      <th>freq</th>\n",
       "      <td>1</td>\n",
       "      <td>489</td>\n",
       "      <td>398</td>\n",
       "      <td>345</td>\n",
       "      <td>480</td>\n",
       "      <td>500</td>\n",
       "      <td>233</td>\n",
       "      <td>422</td>\n",
       "    </tr>\n",
       "  </tbody>\n",
       "</table>\n",
       "</div>"
      ],
      "text/plain": [
       "         Loan_ID Gender Married Dependents Education Self_Employed  \\\n",
       "count        614    601     611        599       614           582   \n",
       "unique       614      2       2          4         2             2   \n",
       "top     LP001002   Male     Yes          0  Graduate            No   \n",
       "freq           1    489     398        345       480           500   \n",
       "\n",
       "       Property_Area Loan_Status  \n",
       "count            614         614  \n",
       "unique             3           2  \n",
       "top        Semiurban           Y  \n",
       "freq             233         422  "
      ]
     },
     "execution_count": 25,
     "metadata": {},
     "output_type": "execute_result"
    }
   ],
   "source": [
    "data.describe(exclude=np.number)"
   ]
  },
  {
   "cell_type": "markdown",
   "id": "96c6eb26-5f70-4405-ba62-b30fd76ded65",
   "metadata": {},
   "source": [
    "Gender, Married, Dependents, Self_Employed columns has missing values.\n",
    "We can drop the Loan_ID column as it contain unique values which does not contribute to the model prediction."
   ]
  },
  {
   "cell_type": "code",
   "execution_count": 26,
   "id": "b29d7318-195a-4b15-8f6f-4eb2de50c006",
   "metadata": {},
   "outputs": [],
   "source": [
    "data.drop(\"Loan_ID\", axis=1, inplace=True)"
   ]
  },
  {
   "cell_type": "code",
   "execution_count": 27,
   "id": "c9c4571b-33dc-486f-bd7f-76b20e05c4b7",
   "metadata": {},
   "outputs": [
    {
     "data": {
      "text/plain": [
       "Male      489\n",
       "Female    112\n",
       "NaN        13\n",
       "Name: Gender, dtype: int64"
      ]
     },
     "execution_count": 27,
     "metadata": {},
     "output_type": "execute_result"
    }
   ],
   "source": [
    "data['Gender'].value_counts(dropna=False)"
   ]
  },
  {
   "cell_type": "code",
   "execution_count": 28,
   "id": "fe8b4b37-de9a-48b3-be76-579e74312377",
   "metadata": {},
   "outputs": [
    {
     "data": {
      "text/plain": [
       "0    Male\n",
       "Name: Gender, dtype: object"
      ]
     },
     "execution_count": 28,
     "metadata": {},
     "output_type": "execute_result"
    }
   ],
   "source": [
    "data['Gender'].mode()"
   ]
  },
  {
   "cell_type": "code",
   "execution_count": 29,
   "id": "c8c6c8aa-146b-4855-a849-68a87574663d",
   "metadata": {},
   "outputs": [],
   "source": [
    "data['Gender'].fillna(data['Gender'].mode()[0], inplace=True)"
   ]
  },
  {
   "cell_type": "code",
   "execution_count": 30,
   "id": "2cb5b24e-3f5a-4c01-8ccc-a7febaf08743",
   "metadata": {},
   "outputs": [
    {
     "data": {
      "text/plain": [
       "Yes    398\n",
       "No     213\n",
       "NaN      3\n",
       "Name: Married, dtype: int64"
      ]
     },
     "execution_count": 30,
     "metadata": {},
     "output_type": "execute_result"
    }
   ],
   "source": [
    "data['Married'].value_counts(dropna=False)"
   ]
  },
  {
   "cell_type": "code",
   "execution_count": 31,
   "id": "a1cb44f8-494e-4ec6-adb5-4b848ebf6ca3",
   "metadata": {},
   "outputs": [
    {
     "data": {
      "text/plain": [
       "0    Yes\n",
       "Name: Married, dtype: object"
      ]
     },
     "execution_count": 31,
     "metadata": {},
     "output_type": "execute_result"
    }
   ],
   "source": [
    "data['Married'].mode()"
   ]
  },
  {
   "cell_type": "code",
   "execution_count": 32,
   "id": "6ff1252b-3bca-4b42-9a4e-ce61ef45dd8d",
   "metadata": {},
   "outputs": [],
   "source": [
    "data['Married'].fillna(data['Married'].mode()[0], inplace=True)"
   ]
  },
  {
   "cell_type": "code",
   "execution_count": 33,
   "id": "bf38f19f-f261-4d6a-b22a-09291d32d2fa",
   "metadata": {},
   "outputs": [
    {
     "data": {
      "text/plain": [
       "0      345\n",
       "1      102\n",
       "2      101\n",
       "3+      51\n",
       "NaN     15\n",
       "Name: Dependents, dtype: int64"
      ]
     },
     "execution_count": 33,
     "metadata": {},
     "output_type": "execute_result"
    }
   ],
   "source": [
    "data['Dependents'].value_counts(dropna=False)"
   ]
  },
  {
   "cell_type": "code",
   "execution_count": 34,
   "id": "ea1a6961-93f5-42fd-9ac3-e1a7352e20dc",
   "metadata": {},
   "outputs": [],
   "source": [
    "data['Dependents'].fillna(data['Dependents'].mode()[0], inplace=True)"
   ]
  },
  {
   "cell_type": "code",
   "execution_count": 36,
   "id": "03ffad70-f2bc-4139-ae2b-3b66fba32ff9",
   "metadata": {},
   "outputs": [],
   "source": [
    "# removing the + symbol from the values\n",
    "data['Dependents'] = data['Dependents'].str.rstrip(\"+\").astype(int)"
   ]
  },
  {
   "cell_type": "code",
   "execution_count": 42,
   "id": "caee76d6-3af0-47da-b0de-40b054effcc3",
   "metadata": {},
   "outputs": [
    {
     "data": {
      "text/plain": [
       "No     500\n",
       "Yes     82\n",
       "NaN     32\n",
       "Name: Self_Employed, dtype: int64"
      ]
     },
     "execution_count": 42,
     "metadata": {},
     "output_type": "execute_result"
    }
   ],
   "source": [
    "data['Self_Employed'].value_counts(dropna=False)"
   ]
  },
  {
   "cell_type": "code",
   "execution_count": 43,
   "id": "9154b247-1f37-4359-ba8c-90ac998feb91",
   "metadata": {},
   "outputs": [],
   "source": [
    "data['Self_Employed'].fillna(data['Self_Employed'].mode()[0], inplace=True)"
   ]
  },
  {
   "cell_type": "code",
   "execution_count": 44,
   "id": "99ee42a2-2935-45a2-8c5e-49fdb3f209ac",
   "metadata": {},
   "outputs": [
    {
     "data": {
      "text/plain": [
       "Gender               0\n",
       "Married              0\n",
       "Dependents           0\n",
       "Education            0\n",
       "Self_Employed        0\n",
       "ApplicantIncome      0\n",
       "CoapplicantIncome    0\n",
       "LoanAmount           0\n",
       "Loan_Amount_Term     0\n",
       "Credit_History       0\n",
       "Property_Area        0\n",
       "Loan_Status          0\n",
       "dtype: int64"
      ]
     },
     "execution_count": 44,
     "metadata": {},
     "output_type": "execute_result"
    }
   ],
   "source": [
    "data.isna().sum()"
   ]
  },
  {
   "cell_type": "markdown",
   "id": "8f210696-b51f-448e-8b38-2e7b5e1cca28",
   "metadata": {},
   "source": [
    "## **Outlier Handling**"
   ]
  },
  {
   "cell_type": "code",
   "execution_count": 45,
   "id": "c09d96c5-af3d-4a22-b14a-2a8ddcf11597",
   "metadata": {},
   "outputs": [
    {
     "data": {
      "text/html": [
       "<div>\n",
       "<style scoped>\n",
       "    .dataframe tbody tr th:only-of-type {\n",
       "        vertical-align: middle;\n",
       "    }\n",
       "\n",
       "    .dataframe tbody tr th {\n",
       "        vertical-align: top;\n",
       "    }\n",
       "\n",
       "    .dataframe thead th {\n",
       "        text-align: right;\n",
       "    }\n",
       "</style>\n",
       "<table border=\"1\" class=\"dataframe\">\n",
       "  <thead>\n",
       "    <tr style=\"text-align: right;\">\n",
       "      <th></th>\n",
       "      <th>Dependents</th>\n",
       "      <th>ApplicantIncome</th>\n",
       "      <th>CoapplicantIncome</th>\n",
       "      <th>LoanAmount</th>\n",
       "      <th>Loan_Amount_Term</th>\n",
       "      <th>Credit_History</th>\n",
       "    </tr>\n",
       "  </thead>\n",
       "  <tbody>\n",
       "    <tr>\n",
       "      <th>count</th>\n",
       "      <td>614.000000</td>\n",
       "      <td>614.000000</td>\n",
       "      <td>614.000000</td>\n",
       "      <td>614.000000</td>\n",
       "      <td>614.000000</td>\n",
       "      <td>614.000000</td>\n",
       "    </tr>\n",
       "    <tr>\n",
       "      <th>mean</th>\n",
       "      <td>0.744300</td>\n",
       "      <td>5403.459283</td>\n",
       "      <td>1621.245798</td>\n",
       "      <td>145.752443</td>\n",
       "      <td>342.410423</td>\n",
       "      <td>0.855049</td>\n",
       "    </tr>\n",
       "    <tr>\n",
       "      <th>std</th>\n",
       "      <td>1.009623</td>\n",
       "      <td>6109.041673</td>\n",
       "      <td>2926.248369</td>\n",
       "      <td>84.107233</td>\n",
       "      <td>64.428629</td>\n",
       "      <td>0.352339</td>\n",
       "    </tr>\n",
       "    <tr>\n",
       "      <th>min</th>\n",
       "      <td>0.000000</td>\n",
       "      <td>150.000000</td>\n",
       "      <td>0.000000</td>\n",
       "      <td>9.000000</td>\n",
       "      <td>12.000000</td>\n",
       "      <td>0.000000</td>\n",
       "    </tr>\n",
       "    <tr>\n",
       "      <th>25%</th>\n",
       "      <td>0.000000</td>\n",
       "      <td>2877.500000</td>\n",
       "      <td>0.000000</td>\n",
       "      <td>100.250000</td>\n",
       "      <td>360.000000</td>\n",
       "      <td>1.000000</td>\n",
       "    </tr>\n",
       "    <tr>\n",
       "      <th>50%</th>\n",
       "      <td>0.000000</td>\n",
       "      <td>3812.500000</td>\n",
       "      <td>1188.500000</td>\n",
       "      <td>128.000000</td>\n",
       "      <td>360.000000</td>\n",
       "      <td>1.000000</td>\n",
       "    </tr>\n",
       "    <tr>\n",
       "      <th>75%</th>\n",
       "      <td>1.000000</td>\n",
       "      <td>5795.000000</td>\n",
       "      <td>2297.250000</td>\n",
       "      <td>164.750000</td>\n",
       "      <td>360.000000</td>\n",
       "      <td>1.000000</td>\n",
       "    </tr>\n",
       "    <tr>\n",
       "      <th>max</th>\n",
       "      <td>3.000000</td>\n",
       "      <td>81000.000000</td>\n",
       "      <td>41667.000000</td>\n",
       "      <td>700.000000</td>\n",
       "      <td>480.000000</td>\n",
       "      <td>1.000000</td>\n",
       "    </tr>\n",
       "  </tbody>\n",
       "</table>\n",
       "</div>"
      ],
      "text/plain": [
       "       Dependents  ApplicantIncome  CoapplicantIncome  LoanAmount  \\\n",
       "count  614.000000       614.000000         614.000000  614.000000   \n",
       "mean     0.744300      5403.459283        1621.245798  145.752443   \n",
       "std      1.009623      6109.041673        2926.248369   84.107233   \n",
       "min      0.000000       150.000000           0.000000    9.000000   \n",
       "25%      0.000000      2877.500000           0.000000  100.250000   \n",
       "50%      0.000000      3812.500000        1188.500000  128.000000   \n",
       "75%      1.000000      5795.000000        2297.250000  164.750000   \n",
       "max      3.000000     81000.000000       41667.000000  700.000000   \n",
       "\n",
       "       Loan_Amount_Term  Credit_History  \n",
       "count        614.000000      614.000000  \n",
       "mean         342.410423        0.855049  \n",
       "std           64.428629        0.352339  \n",
       "min           12.000000        0.000000  \n",
       "25%          360.000000        1.000000  \n",
       "50%          360.000000        1.000000  \n",
       "75%          360.000000        1.000000  \n",
       "max          480.000000        1.000000  "
      ]
     },
     "execution_count": 45,
     "metadata": {},
     "output_type": "execute_result"
    }
   ],
   "source": [
    "data.describe()"
   ]
  },
  {
   "cell_type": "code",
   "execution_count": 127,
   "id": "2ef2ad2c-ba53-490f-b1a5-6097687d95a5",
   "metadata": {},
   "outputs": [
    {
     "data": {
      "image/png": "[encoded data removed]",
      "text/plain": [
       "<Figure size 1152x288 with 2 Axes>"
      ]
     },
     "metadata": {},
     "output_type": "display_data"
    },
    {
     "data": {
      "image/png": "[encoded data removed]",
      "text/plain": [
       "<Figure size 1152x288 with 2 Axes>"
      ]
     },
     "metadata": {},
     "output_type": "display_data"
    },
    {
     "data": {
      "image/png": "[encoded data removed]",
      "text/plain": [
       "<Figure size 1152x288 with 2 Axes>"
      ]
     },
     "metadata": {},
     "output_type": "display_data"
    }
   ],
   "source": [
    "# ApplicantIncome \n",
    "col = 'ApplicantIncome'\n",
    "plt.figure(figsize=(16,4))\n",
    "\n",
    "# histogram\n",
    "plt.subplot(1, 2, 1)\n",
    "sns.histplot(x=data[col])\n",
    "plt.xticks(fontsize=12)\n",
    "plt.xlabel(\"\")\n",
    "\n",
    "# box plot \n",
    "plt.subplot(1, 2, 2)\n",
    "sns.boxplot(x=data[col])\n",
    "plt.xticks(fontsize=12)\n",
    "plt.xlabel(\"\")\n",
    "\n",
    "plt.suptitle(col + \" Column\", fontsize=22)\n",
    "plt.tight_layout()\n",
    "plt.show()\n",
    "\n",
    "\n",
    "# log transformation\n",
    "plt.figure(figsize=(16,4))\n",
    "log_applicantIncome = np.log(data[col])\n",
    "\n",
    "# histogram\n",
    "plt.subplot(1, 2, 1)\n",
    "sns.histplot(x=log_applicantIncome)\n",
    "plt.xticks(fontsize=12)\n",
    "plt.xlabel(\"\")\n",
    "\n",
    "# box plot \n",
    "plt.subplot(1, 2, 2)\n",
    "sns.boxplot(x=log_applicantIncome)\n",
    "plt.xticks(fontsize=12)\n",
    "plt.xlabel(\"\")\n",
    "\n",
    "plt.suptitle(col + \" Column after Log Transformation\", fontsize=22)\n",
    "plt.tight_layout()\n",
    "plt.show()\n",
    "\n",
    "\n",
    "# cube root transformation\n",
    "plt.figure(figsize=(16,4))\n",
    "cube_root_applicantIncome = (data[col]) ** (1/3)\n",
    "\n",
    "# histogram\n",
    "plt.subplot(1, 2, 1)\n",
    "sns.histplot(x=cube_root_applicantIncome)\n",
    "plt.xticks(fontsize=12)\n",
    "plt.xlabel(\"\")\n",
    "\n",
    "# box plot \n",
    "plt.subplot(1, 2, 2)\n",
    "sns.boxplot(x=cube_root_applicantIncome)\n",
    "plt.xticks(fontsize=12)\n",
    "plt.xlabel(\"\")\n",
    "\n",
    "plt.suptitle(col + \" Column after Cube Root Transformation\", fontsize=22)\n",
    "plt.tight_layout()\n",
    "plt.show()"
   ]
  },
  {
   "cell_type": "markdown",
   "id": "5740cf04-a28f-4276-8f38-8b19284cd756",
   "metadata": {},
   "source": [
    "The log tranformation can be used to handle the outlier values in ApplicantIncome column"
   ]
  },
  {
   "cell_type": "code",
   "execution_count": 129,
   "id": "af278a31-f8fa-4a89-bbc0-47c503e91444",
   "metadata": {},
   "outputs": [
    {
     "data": {
      "text/plain": [
       "0      8.674026\n",
       "1      8.430109\n",
       "2      8.006368\n",
       "3      7.856707\n",
       "4      8.699515\n",
       "         ...   \n",
       "609    7.972466\n",
       "610    8.320205\n",
       "611    8.996157\n",
       "612    8.933664\n",
       "613    8.430109\n",
       "Name: ApplicantIncome, Length: 614, dtype: float64"
      ]
     },
     "execution_count": 129,
     "metadata": {},
     "output_type": "execute_result"
    }
   ],
   "source": [
    "data['ApplicantIncome'] = log_applicantIncome\n",
    "data['ApplicantIncome']"
   ]
  },
  {
   "cell_type": "code",
   "execution_count": 136,
   "id": "296933b0-debe-495c-84d9-b0618549e983",
   "metadata": {},
   "outputs": [
    {
     "data": {
      "image/png": "[encoded data removed]",
      "text/plain": [
       "<Figure size 1152x288 with 2 Axes>"
      ]
     },
     "metadata": {},
     "output_type": "display_data"
    },
    {
     "name": "stderr",
     "output_type": "stream",
     "text": [
      "C:\\Users\\hp\\anaconda3\\lib\\site-packages\\pandas\\core\\arraylike.py:397: RuntimeWarning: divide by zero encountered in log\n",
      "  result = getattr(ufunc, method)(*inputs, **kwargs)\n",
      "C:\\Users\\hp\\anaconda3\\lib\\site-packages\\numpy\\lib\\function_base.py:4009: RuntimeWarning: invalid value encountered in subtract\n",
      "  diff_b_a = subtract(b, a)\n"
     ]
    },
    {
     "data": {
      "image/png": "[encoded data removed]",
      "text/plain": [
       "<Figure size 1152x288 with 2 Axes>"
      ]
     },
     "metadata": {},
     "output_type": "display_data"
    },
    {
     "data": {
      "image/png": "[encoded data removed]",
      "text/plain": [
       "<Figure size 1152x288 with 2 Axes>"
      ]
     },
     "metadata": {},
     "output_type": "display_data"
    }
   ],
   "source": [
    "# CoapplicantIncome\n",
    "col = 'CoapplicantIncome'\n",
    "plt.figure(figsize=(16,4))\n",
    "\n",
    "# histogram\n",
    "plt.subplot(1, 2, 1)\n",
    "sns.histplot(x=data[col])\n",
    "plt.xticks(fontsize=12)\n",
    "plt.xlabel(\"\")\n",
    "\n",
    "# box plot \n",
    "plt.subplot(1, 2, 2)\n",
    "sns.boxplot(x=data[col])\n",
    "plt.xticks(fontsize=12)\n",
    "plt.xlabel(\"\")\n",
    "\n",
    "plt.suptitle(col + \" Column\", fontsize=22)\n",
    "plt.tight_layout()\n",
    "plt.show()\n",
    "\n",
    "\n",
    "# log transformation\n",
    "plt.figure(figsize=(16,4))\n",
    "log_coapplicantIncome = np.log(data[col])\n",
    "\n",
    "# histogram\n",
    "plt.subplot(1, 2, 1)\n",
    "sns.histplot(x=log_coapplicantIncome)\n",
    "plt.xticks(fontsize=12)\n",
    "plt.xlabel(\"\")\n",
    "\n",
    "# box plot \n",
    "plt.subplot(1, 2, 2)\n",
    "sns.boxplot(x=log_coapplicantIncome)\n",
    "plt.xticks(fontsize=12)\n",
    "plt.xlabel(\"\")\n",
    "\n",
    "plt.suptitle(col + \" Column after Log Transformation\", fontsize=22)\n",
    "plt.tight_layout()\n",
    "plt.show()\n",
    "\n",
    "\n",
    "# cube root transformation\n",
    "plt.figure(figsize=(16,4))\n",
    "cube_root_coapplicantIncome = (data[col]) ** (1/3)\n",
    "\n",
    "# histogram\n",
    "plt.subplot(1, 2, 1)\n",
    "sns.histplot(x=cube_root_coapplicantIncome)\n",
    "plt.xticks(fontsize=12)\n",
    "plt.xlabel(\"\")\n",
    "\n",
    "# box plot \n",
    "plt.subplot(1, 2, 2)\n",
    "sns.boxplot(x=cube_root_coapplicantIncome)\n",
    "plt.xticks(fontsize=12)\n",
    "plt.xlabel(\"\")\n",
    "\n",
    "plt.suptitle(col + \" Column after Cube Root Transformation\", fontsize=22)\n",
    "plt.tight_layout()\n",
    "plt.show()"
   ]
  },
  {
   "cell_type": "code",
   "execution_count": null,
   "id": "cffdb731-883a-4b19-b641-80c970215458",
   "metadata": {},
   "outputs": [
    {
     "data": {
      "text/plain": [
       "614"
      ]
     },
     "execution_count": 130,
     "metadata": {},
     "output_type": "execute_result"
    }
   ],
   "source": [
    "len(data['CoapplicantIncome'] == 0)"
   ]
  },
  {
   "cell_type": "markdown",
   "id": "30007c91-91dd-489d-8369-ef374d4f78f6",
   "metadata": {},
   "source": [
    "614 of the values are 0, so Log transformation cannot be applied. \n",
    "\n",
    "Cube tranformation can be used here to handle the outliers."
   ]
  },
  {
   "cell_type": "code",
   "execution_count": 137,
   "id": "5263117f-4642-4017-8e2b-70a16015cc18",
   "metadata": {},
   "outputs": [
    {
     "data": {
      "text/plain": [
       "0       0.000000\n",
       "1      11.467457\n",
       "2       0.000000\n",
       "3      13.310098\n",
       "4       0.000000\n",
       "         ...    \n",
       "609     0.000000\n",
       "610     0.000000\n",
       "611     6.214465\n",
       "612     0.000000\n",
       "613     0.000000\n",
       "Name: CoapplicantIncome, Length: 614, dtype: float64"
      ]
     },
     "execution_count": 137,
     "metadata": {},
     "output_type": "execute_result"
    }
   ],
   "source": [
    "data['CoapplicantIncome'] = cube_root_coapplicantIncome\n",
    "data['CoapplicantIncome']"
   ]
  },
  {
   "cell_type": "code",
   "execution_count": 139,
   "id": "16b398f2-e79e-4327-b7dd-43b98846bc3f",
   "metadata": {},
   "outputs": [
    {
     "data": {
      "image/png": "[encoded data removed]",
      "text/plain": [
       "<Figure size 1152x288 with 2 Axes>"
      ]
     },
     "metadata": {},
     "output_type": "display_data"
    },
    {
     "data": {
      "image/png": "[encoded data removed]",
      "text/plain": [
       "<Figure size 1152x288 with 2 Axes>"
      ]
     },
     "metadata": {},
     "output_type": "display_data"
    },
    {
     "data": {
      "image/png": "[encoded data removed]",
      "text/plain": [
       "<Figure size 1152x288 with 2 Axes>"
      ]
     },
     "metadata": {},
     "output_type": "display_data"
    }
   ],
   "source": [
    "# LoanAmount \n",
    "col = 'LoanAmount'\n",
    "plt.figure(figsize=(16,4))\n",
    "\n",
    "# histogram\n",
    "plt.subplot(1, 2, 1)\n",
    "sns.histplot(x=data[col])\n",
    "plt.xticks(fontsize=12)\n",
    "plt.xlabel(\"\")\n",
    "\n",
    "# box plot \n",
    "plt.subplot(1, 2, 2)\n",
    "sns.boxplot(x=data[col])\n",
    "plt.xticks(fontsize=12)\n",
    "plt.xlabel(\"\")\n",
    "\n",
    "plt.suptitle(col + \" Column\", fontsize=22)\n",
    "plt.tight_layout()\n",
    "plt.show()\n",
    "\n",
    "\n",
    "# log transformation\n",
    "plt.figure(figsize=(16,4))\n",
    "log_loanAmount = np.log(data[col])\n",
    "\n",
    "# histogram\n",
    "plt.subplot(1, 2, 1)\n",
    "sns.histplot(x=log_loanAmount)\n",
    "plt.xticks(fontsize=12)\n",
    "plt.xlabel(\"\")\n",
    "\n",
    "# box plot \n",
    "plt.subplot(1, 2, 2)\n",
    "sns.boxplot(x=log_loanAmount)\n",
    "plt.xticks(fontsize=12)\n",
    "plt.xlabel(\"\")\n",
    "\n",
    "plt.suptitle(col + \" Column after Log Transformation\", fontsize=22)\n",
    "plt.tight_layout()\n",
    "plt.show()\n",
    "\n",
    "\n",
    "# cube root transformation\n",
    "plt.figure(figsize=(16,4))\n",
    "cube_root_loanAmount = (data[col]) ** (1/3)\n",
    "\n",
    "# histogram\n",
    "plt.subplot(1, 2, 1)\n",
    "sns.histplot(x=cube_root_loanAmount)\n",
    "plt.xticks(fontsize=12)\n",
    "plt.xlabel(\"\")\n",
    "\n",
    "# box plot \n",
    "plt.subplot(1, 2, 2)\n",
    "sns.boxplot(x=cube_root_loanAmount)\n",
    "plt.xticks(fontsize=12)\n",
    "plt.xlabel(\"\")\n",
    "\n",
    "plt.suptitle(col + \" Column after Cube Root Transformation\", fontsize=22)\n",
    "plt.tight_layout()\n",
    "plt.show()"
   ]
  },
  {
   "cell_type": "markdown",
   "id": "3c3b8f78-2fe2-4118-8693-91c6584dc687",
   "metadata": {},
   "source": [
    "LoanAmount outlier values can be handled by Cube Root Transfomration."
   ]
  },
  {
   "cell_type": "code",
   "execution_count": 140,
   "id": "0d0b649a-090c-4b00-8468-0c7ea581d0e2",
   "metadata": {},
   "outputs": [
    {
     "data": {
      "text/plain": [
       "0      5.039684\n",
       "1      5.039684\n",
       "2      4.041240\n",
       "3      4.932424\n",
       "4      5.204828\n",
       "         ...   \n",
       "609    4.140818\n",
       "610    3.419952\n",
       "611    6.324704\n",
       "612    5.718479\n",
       "613    5.104469\n",
       "Name: LoanAmount, Length: 614, dtype: float64"
      ]
     },
     "execution_count": 140,
     "metadata": {},
     "output_type": "execute_result"
    }
   ],
   "source": [
    "data['LoanAmount'] = cube_root_loanAmount\n",
    "data['LoanAmount']"
   ]
  },
  {
   "cell_type": "code",
   "execution_count": 142,
   "id": "e68a06cc-0465-4f1e-b8d1-06178e00dd2a",
   "metadata": {},
   "outputs": [
    {
     "data": {
      "image/png": "[encoded data removed]",
      "text/plain": [
       "<Figure size 1152x288 with 2 Axes>"
      ]
     },
     "metadata": {},
     "output_type": "display_data"
    }
   ],
   "source": [
    "# Loan_Amount_Term \n",
    "col = 'Loan_Amount_Term'\n",
    "plt.figure(figsize=(16,4))\n",
    "\n",
    "# histogram\n",
    "plt.subplot(1, 2, 1)\n",
    "sns.histplot(x=data[col])\n",
    "plt.xticks(fontsize=12)\n",
    "plt.xlabel(\"\")\n",
    "\n",
    "# box plot \n",
    "plt.subplot(1, 2, 2)\n",
    "sns.boxplot(x=data[col])\n",
    "plt.xticks(fontsize=12)\n",
    "plt.xlabel(\"\")\n",
    "\n",
    "plt.suptitle(col + \" Column\", fontsize=22)\n",
    "plt.tight_layout()\n",
    "plt.show()"
   ]
  },
  {
   "cell_type": "markdown",
   "id": "01e1d45e-1097-4c63-9905-e43d53d4c4dd",
   "metadata": {},
   "source": [
    "Loan_Amount_Term outlier values can be standardized.\n",
    "\n",
    "Credit_History contains only 0 and 1 so no need to change."
   ]
  },
  {
   "cell_type": "markdown",
   "id": "8777bbd3-85c3-402e-9305-222062306c79",
   "metadata": {},
   "source": [
    "# **Training and Test Dataset**"
   ]
  },
  {
   "cell_type": "code",
   "execution_count": 154,
   "id": "988ec41c-b86b-47a6-8d3b-ac5ee1352794",
   "metadata": {},
   "outputs": [],
   "source": [
    "from sklearn.preprocessing import LabelEncoder"
   ]
  },
  {
   "cell_type": "code",
   "execution_count": 157,
   "id": "61c8ebea-e1ce-4f83-8965-7fd35763d404",
   "metadata": {},
   "outputs": [
    {
     "data": {
      "text/plain": [
       "0      1\n",
       "1      0\n",
       "2      1\n",
       "3      1\n",
       "4      1\n",
       "      ..\n",
       "609    1\n",
       "610    1\n",
       "611    1\n",
       "612    1\n",
       "613    0\n",
       "Name: Loan_Status, Length: 614, dtype: int64"
      ]
     },
     "execution_count": 157,
     "metadata": {},
     "output_type": "execute_result"
    }
   ],
   "source": [
    "le = LabelEncoder()\n",
    "data['Loan_Status'] = le.fit_transform(data['Loan_Status'])\n",
    "data['Loan_Status']"
   ]
  },
  {
   "cell_type": "code",
   "execution_count": 158,
   "id": "95e92c7e-fb3b-4c6f-8115-84291f27e8d1",
   "metadata": {},
   "outputs": [],
   "source": [
    "data2 = pd.get_dummies(data)"
   ]
  },
  {
   "cell_type": "code",
   "execution_count": 159,
   "id": "7da3fea1-7698-4bf4-92da-3841798c3456",
   "metadata": {},
   "outputs": [],
   "source": [
    "X = data2.drop('Loan_Status', axis=1)\n",
    "y = data['Loan_Status']"
   ]
  },
  {
   "cell_type": "markdown",
   "id": "d4eb0665-e3e8-4585-bbd1-de98e95e00f3",
   "metadata": {},
   "source": [
    "## **Scaling the Dataset**"
   ]
  },
  {
   "cell_type": "code",
   "execution_count": null,
   "id": "cfbd6703-8f52-40ab-aa0b-1fd68f97bbbc",
   "metadata": {},
   "outputs": [],
   "source": [
    "from sklearn.preprocessing import MinMaxScaler"
   ]
  },
  {
   "cell_type": "code",
   "execution_count": 218,
   "id": "52947fb1-d43c-4a48-b5f9-dbe1a080510c",
   "metadata": {},
   "outputs": [],
   "source": [
    "scaler = MinMaxScaler()"
   ]
  },
  {
   "cell_type": "code",
   "execution_count": 219,
   "id": "5c6ce2d7-bf2d-41a0-9854-4100088c9070",
   "metadata": {},
   "outputs": [],
   "source": [
    "X = scaler.fit_transform(X)"
   ]
  },
  {
   "cell_type": "code",
   "execution_count": 229,
   "id": "a1097337-0fa0-4f69-b468-fb593420dcca",
   "metadata": {},
   "outputs": [
    {
     "data": {
      "text/html": [
       "<div>\n",
       "<style scoped>\n",
       "    .dataframe tbody tr th:only-of-type {\n",
       "        vertical-align: middle;\n",
       "    }\n",
       "\n",
       "    .dataframe tbody tr th {\n",
       "        vertical-align: top;\n",
       "    }\n",
       "\n",
       "    .dataframe thead th {\n",
       "        text-align: right;\n",
       "    }\n",
       "</style>\n",
       "<table border=\"1\" class=\"dataframe\">\n",
       "  <thead>\n",
       "    <tr style=\"text-align: right;\">\n",
       "      <th></th>\n",
       "      <th>0</th>\n",
       "      <th>1</th>\n",
       "      <th>2</th>\n",
       "      <th>3</th>\n",
       "      <th>4</th>\n",
       "      <th>5</th>\n",
       "      <th>6</th>\n",
       "      <th>7</th>\n",
       "      <th>8</th>\n",
       "      <th>9</th>\n",
       "      <th>10</th>\n",
       "      <th>11</th>\n",
       "      <th>12</th>\n",
       "      <th>13</th>\n",
       "      <th>14</th>\n",
       "      <th>15</th>\n",
       "      <th>16</th>\n",
       "    </tr>\n",
       "  </thead>\n",
       "  <tbody>\n",
       "    <tr>\n",
       "      <th>count</th>\n",
       "      <td>614.000000</td>\n",
       "      <td>614.000000</td>\n",
       "      <td>614.000000</td>\n",
       "      <td>614.000000</td>\n",
       "      <td>614.000000</td>\n",
       "      <td>614.000000</td>\n",
       "      <td>614.000000</td>\n",
       "      <td>614.000000</td>\n",
       "      <td>614.000000</td>\n",
       "      <td>614.000000</td>\n",
       "      <td>614.000000</td>\n",
       "      <td>614.000000</td>\n",
       "      <td>614.000000</td>\n",
       "      <td>614.000000</td>\n",
       "      <td>614.000000</td>\n",
       "      <td>614.000000</td>\n",
       "      <td>614.000000</td>\n",
       "    </tr>\n",
       "    <tr>\n",
       "      <th>mean</th>\n",
       "      <td>0.248100</td>\n",
       "      <td>0.529372</td>\n",
       "      <td>0.215787</td>\n",
       "      <td>0.446745</td>\n",
       "      <td>0.706005</td>\n",
       "      <td>0.855049</td>\n",
       "      <td>0.182410</td>\n",
       "      <td>0.817590</td>\n",
       "      <td>0.346906</td>\n",
       "      <td>0.653094</td>\n",
       "      <td>0.781759</td>\n",
       "      <td>0.218241</td>\n",
       "      <td>0.866450</td>\n",
       "      <td>0.133550</td>\n",
       "      <td>0.291531</td>\n",
       "      <td>0.379479</td>\n",
       "      <td>0.328990</td>\n",
       "    </tr>\n",
       "    <tr>\n",
       "      <th>std</th>\n",
       "      <td>0.336541</td>\n",
       "      <td>0.102560</td>\n",
       "      <td>0.205049</td>\n",
       "      <td>0.125708</td>\n",
       "      <td>0.137668</td>\n",
       "      <td>0.352339</td>\n",
       "      <td>0.386497</td>\n",
       "      <td>0.386497</td>\n",
       "      <td>0.476373</td>\n",
       "      <td>0.476373</td>\n",
       "      <td>0.413389</td>\n",
       "      <td>0.413389</td>\n",
       "      <td>0.340446</td>\n",
       "      <td>0.340446</td>\n",
       "      <td>0.454838</td>\n",
       "      <td>0.485653</td>\n",
       "      <td>0.470229</td>\n",
       "    </tr>\n",
       "    <tr>\n",
       "      <th>min</th>\n",
       "      <td>0.000000</td>\n",
       "      <td>0.000000</td>\n",
       "      <td>0.000000</td>\n",
       "      <td>0.000000</td>\n",
       "      <td>0.000000</td>\n",
       "      <td>0.000000</td>\n",
       "      <td>0.000000</td>\n",
       "      <td>0.000000</td>\n",
       "      <td>0.000000</td>\n",
       "      <td>0.000000</td>\n",
       "      <td>0.000000</td>\n",
       "      <td>0.000000</td>\n",
       "      <td>0.000000</td>\n",
       "      <td>0.000000</td>\n",
       "      <td>0.000000</td>\n",
       "      <td>0.000000</td>\n",
       "      <td>0.000000</td>\n",
       "    </tr>\n",
       "    <tr>\n",
       "      <th>25%</th>\n",
       "      <td>0.000000</td>\n",
       "      <td>0.469524</td>\n",
       "      <td>0.000000</td>\n",
       "      <td>0.377317</td>\n",
       "      <td>0.743590</td>\n",
       "      <td>1.000000</td>\n",
       "      <td>0.000000</td>\n",
       "      <td>1.000000</td>\n",
       "      <td>0.000000</td>\n",
       "      <td>0.000000</td>\n",
       "      <td>1.000000</td>\n",
       "      <td>0.000000</td>\n",
       "      <td>1.000000</td>\n",
       "      <td>0.000000</td>\n",
       "      <td>0.000000</td>\n",
       "      <td>0.000000</td>\n",
       "      <td>0.000000</td>\n",
       "    </tr>\n",
       "    <tr>\n",
       "      <th>50%</th>\n",
       "      <td>0.000000</td>\n",
       "      <td>0.514245</td>\n",
       "      <td>0.305530</td>\n",
       "      <td>0.435302</td>\n",
       "      <td>0.743590</td>\n",
       "      <td>1.000000</td>\n",
       "      <td>0.000000</td>\n",
       "      <td>1.000000</td>\n",
       "      <td>0.000000</td>\n",
       "      <td>1.000000</td>\n",
       "      <td>1.000000</td>\n",
       "      <td>0.000000</td>\n",
       "      <td>1.000000</td>\n",
       "      <td>0.000000</td>\n",
       "      <td>0.000000</td>\n",
       "      <td>0.000000</td>\n",
       "      <td>0.000000</td>\n",
       "    </tr>\n",
       "    <tr>\n",
       "      <th>75%</th>\n",
       "      <td>0.333333</td>\n",
       "      <td>0.580795</td>\n",
       "      <td>0.380602</td>\n",
       "      <td>0.500363</td>\n",
       "      <td>0.743590</td>\n",
       "      <td>1.000000</td>\n",
       "      <td>0.000000</td>\n",
       "      <td>1.000000</td>\n",
       "      <td>1.000000</td>\n",
       "      <td>1.000000</td>\n",
       "      <td>1.000000</td>\n",
       "      <td>0.000000</td>\n",
       "      <td>1.000000</td>\n",
       "      <td>0.000000</td>\n",
       "      <td>1.000000</td>\n",
       "      <td>1.000000</td>\n",
       "      <td>1.000000</td>\n",
       "    </tr>\n",
       "    <tr>\n",
       "      <th>max</th>\n",
       "      <td>1.000000</td>\n",
       "      <td>1.000000</td>\n",
       "      <td>1.000000</td>\n",
       "      <td>1.000000</td>\n",
       "      <td>1.000000</td>\n",
       "      <td>1.000000</td>\n",
       "      <td>1.000000</td>\n",
       "      <td>1.000000</td>\n",
       "      <td>1.000000</td>\n",
       "      <td>1.000000</td>\n",
       "      <td>1.000000</td>\n",
       "      <td>1.000000</td>\n",
       "      <td>1.000000</td>\n",
       "      <td>1.000000</td>\n",
       "      <td>1.000000</td>\n",
       "      <td>1.000000</td>\n",
       "      <td>1.000000</td>\n",
       "    </tr>\n",
       "  </tbody>\n",
       "</table>\n",
       "</div>"
      ],
      "text/plain": [
       "               0           1           2           3           4           5   \\\n",
       "count  614.000000  614.000000  614.000000  614.000000  614.000000  614.000000   \n",
       "mean     0.248100    0.529372    0.215787    0.446745    0.706005    0.855049   \n",
       "std      0.336541    0.102560    0.205049    0.125708    0.137668    0.352339   \n",
       "min      0.000000    0.000000    0.000000    0.000000    0.000000    0.000000   \n",
       "25%      0.000000    0.469524    0.000000    0.377317    0.743590    1.000000   \n",
       "50%      0.000000    0.514245    0.305530    0.435302    0.743590    1.000000   \n",
       "75%      0.333333    0.580795    0.380602    0.500363    0.743590    1.000000   \n",
       "max      1.000000    1.000000    1.000000    1.000000    1.000000    1.000000   \n",
       "\n",
       "               6           7           8           9           10          11  \\\n",
       "count  614.000000  614.000000  614.000000  614.000000  614.000000  614.000000   \n",
       "mean     0.182410    0.817590    0.346906    0.653094    0.781759    0.218241   \n",
       "std      0.386497    0.386497    0.476373    0.476373    0.413389    0.413389   \n",
       "min      0.000000    0.000000    0.000000    0.000000    0.000000    0.000000   \n",
       "25%      0.000000    1.000000    0.000000    0.000000    1.000000    0.000000   \n",
       "50%      0.000000    1.000000    0.000000    1.000000    1.000000    0.000000   \n",
       "75%      0.000000    1.000000    1.000000    1.000000    1.000000    0.000000   \n",
       "max      1.000000    1.000000    1.000000    1.000000    1.000000    1.000000   \n",
       "\n",
       "               12          13          14          15          16  \n",
       "count  614.000000  614.000000  614.000000  614.000000  614.000000  \n",
       "mean     0.866450    0.133550    0.291531    0.379479    0.328990  \n",
       "std      0.340446    0.340446    0.454838    0.485653    0.470229  \n",
       "min      0.000000    0.000000    0.000000    0.000000    0.000000  \n",
       "25%      1.000000    0.000000    0.000000    0.000000    0.000000  \n",
       "50%      1.000000    0.000000    0.000000    0.000000    0.000000  \n",
       "75%      1.000000    0.000000    1.000000    1.000000    1.000000  \n",
       "max      1.000000    1.000000    1.000000    1.000000    1.000000  "
      ]
     },
     "execution_count": 229,
     "metadata": {},
     "output_type": "execute_result"
    }
   ],
   "source": [
    "pd.DataFrame(X).describe()"
   ]
  },
  {
   "cell_type": "code",
   "execution_count": 230,
   "id": "d0a1b0d0-9e30-43fa-8d0a-35ad0380b111",
   "metadata": {},
   "outputs": [],
   "source": [
    "from sklearn.model_selection import train_test_split"
   ]
  },
  {
   "cell_type": "code",
   "execution_count": 231,
   "id": "f905bfc0-fc35-4ed3-bb3b-f473c3f6ab44",
   "metadata": {},
   "outputs": [],
   "source": [
    "X_train, X_test, y_train, y_test = train_test_split(X, y, test_size=0.2, random_state=42)"
   ]
  },
  {
   "cell_type": "code",
   "execution_count": 232,
   "id": "6bd319c0-43f4-40da-b51e-14e4414a3510",
   "metadata": {},
   "outputs": [
    {
     "data": {
      "text/plain": [
       "((491, 17), (123, 17))"
      ]
     },
     "execution_count": 232,
     "metadata": {},
     "output_type": "execute_result"
    }
   ],
   "source": [
    "X_train.shape, X_test.shape"
   ]
  },
  {
   "cell_type": "markdown",
   "id": "693587da-ab0d-41c8-97de-e7777c37e44a",
   "metadata": {},
   "source": [
    "# **Bagging Classifier**"
   ]
  },
  {
   "cell_type": "code",
   "execution_count": 233,
   "id": "f52f200f-c4ae-44d8-880b-888b44da845c",
   "metadata": {},
   "outputs": [],
   "source": [
    "from sklearn.ensemble import BaggingClassifier\n",
    "from sklearn.tree import DecisionTreeClassifier"
   ]
  },
  {
   "cell_type": "code",
   "execution_count": 234,
   "id": "d7c0be24-7cf7-49e5-88a3-4d4c224c1047",
   "metadata": {},
   "outputs": [],
   "source": [
    "dt = DecisionTreeClassifier()\n",
    "bc = BaggingClassifier(base_estimator=dt, n_estimators=300, n_jobs=-1, random_state=42)"
   ]
  },
  {
   "cell_type": "code",
   "execution_count": 235,
   "id": "374cc39c-94fd-434f-a823-14207048d4e3",
   "metadata": {},
   "outputs": [
    {
     "data": {
      "text/plain": [
       "BaggingClassifier(base_estimator=DecisionTreeClassifier(), n_estimators=300,\n",
       "                  n_jobs=-1, random_state=42)"
      ]
     },
     "execution_count": 235,
     "metadata": {},
     "output_type": "execute_result"
    }
   ],
   "source": [
    "bc.fit(X_train, y_train)"
   ]
  },
  {
   "cell_type": "code",
   "execution_count": 236,
   "id": "63667586-5f8f-4145-8e2e-274d02ae2720",
   "metadata": {},
   "outputs": [],
   "source": [
    "y_pred_bc = bc.predict(X_test)"
   ]
  },
  {
   "cell_type": "code",
   "execution_count": 237,
   "id": "7a723d73-6ad2-44c1-80e8-92edcc1ac74a",
   "metadata": {},
   "outputs": [],
   "source": [
    "from sklearn.metrics import f1_score"
   ]
  },
  {
   "cell_type": "code",
   "execution_count": 238,
   "id": "909dca10-9c29-4803-83a7-18ec6cea6266",
   "metadata": {},
   "outputs": [
    {
     "name": "stdout",
     "output_type": "stream",
     "text": [
      "F1 Score of Bagging Classifier : 0.8202247191011237\n"
     ]
    }
   ],
   "source": [
    "print(\"F1 Score of Bagging Classifier :\", f1_score(y_test, y_pred_bc))"
   ]
  },
  {
   "cell_type": "markdown",
   "id": "c5ca0a5e-977f-424f-a377-4ce27353e82a",
   "metadata": {},
   "source": [
    "# **Random Forest Classifier**"
   ]
  },
  {
   "cell_type": "code",
   "execution_count": 239,
   "id": "54539ea3-4ed4-469f-9adb-35ad48207183",
   "metadata": {},
   "outputs": [],
   "source": [
    "from sklearn.ensemble import RandomForestClassifier"
   ]
  },
  {
   "cell_type": "code",
   "execution_count": 240,
   "id": "82feae2f-796a-4002-92ed-d1a554d6678e",
   "metadata": {},
   "outputs": [
    {
     "data": {
      "text/plain": [
       "RandomForestClassifier(max_depth=16, n_estimators=500, n_jobs=-1,\n",
       "                       random_state=42)"
      ]
     },
     "execution_count": 240,
     "metadata": {},
     "output_type": "execute_result"
    }
   ],
   "source": [
    "rfc = RandomForestClassifier(max_depth=16, n_estimators=500, n_jobs=-1, random_state=42)\n",
    "rfc.fit(X_train, y_train)"
   ]
  },
  {
   "cell_type": "code",
   "execution_count": 241,
   "id": "c6a50f69-46d5-468e-9ff4-90c5d3aa9cd7",
   "metadata": {},
   "outputs": [
    {
     "name": "stdout",
     "output_type": "stream",
     "text": [
      "F1 Score of Random Forest Classifier : 0.8397790055248618\n"
     ]
    }
   ],
   "source": [
    "y_pred_rfc = rfc.predict(X_test)\n",
    "print(\"F1 Score of Random Forest Classifier :\", f1_score(y_test, y_pred_rfc))"
   ]
  },
  {
   "cell_type": "markdown",
   "id": "20056572-37e8-4546-ab8b-192f718ed44f",
   "metadata": {},
   "source": [
    "# **Gradient Boosting Classifier**"
   ]
  },
  {
   "cell_type": "code",
   "execution_count": 242,
   "id": "9cf22c28-cde6-4d79-9742-8febad09450d",
   "metadata": {},
   "outputs": [],
   "source": [
    "from sklearn.ensemble import GradientBoostingClassifier"
   ]
  },
  {
   "cell_type": "code",
   "execution_count": 243,
   "id": "4e2d48d8-4721-463a-8019-1bd2f295a3ff",
   "metadata": {},
   "outputs": [
    {
     "data": {
      "text/plain": [
       "GradientBoostingClassifier(n_estimators=400, random_state=42)"
      ]
     },
     "execution_count": 243,
     "metadata": {},
     "output_type": "execute_result"
    }
   ],
   "source": [
    "gbc = GradientBoostingClassifier(n_estimators=400, random_state=42)\n",
    "gbc.fit(X_train, y_train)"
   ]
  },
  {
   "cell_type": "code",
   "execution_count": 244,
   "id": "5af6313f-addc-41c7-ba75-a8ee0fc7ecf8",
   "metadata": {},
   "outputs": [
    {
     "name": "stdout",
     "output_type": "stream",
     "text": [
      "F1 Score of Gradient Boosting Classifier : 0.8314606741573034\n"
     ]
    }
   ],
   "source": [
    "y_pred_gbc = gbc.predict(X_test)\n",
    "print(\"F1 Score of Gradient Boosting Classifier :\", f1_score(y_test, y_pred_gbc))"
   ]
  },
  {
   "cell_type": "markdown",
   "id": "f09a8711-e2da-4af6-8225-98f4538e70e3",
   "metadata": {},
   "source": [
    "# **AdaBoost Classifier**"
   ]
  },
  {
   "cell_type": "code",
   "execution_count": 245,
   "id": "a2e2dc72-3bca-4b63-8fef-7b2babca1716",
   "metadata": {},
   "outputs": [],
   "source": [
    "from sklearn.ensemble import AdaBoostClassifier"
   ]
  },
  {
   "cell_type": "code",
   "execution_count": 246,
   "id": "121d467f-4969-4068-b965-3ac2dd02038c",
   "metadata": {},
   "outputs": [
    {
     "data": {
      "text/plain": [
       "AdaBoostClassifier(n_estimators=300, random_state=42)"
      ]
     },
     "execution_count": 246,
     "metadata": {},
     "output_type": "execute_result"
    }
   ],
   "source": [
    "abc = AdaBoostClassifier(n_estimators=300, random_state=42)\n",
    "abc.fit(X_train, y_train)"
   ]
  },
  {
   "cell_type": "code",
   "execution_count": 247,
   "id": "acd83ea6-60d8-48b4-a081-594584ad6302",
   "metadata": {},
   "outputs": [
    {
     "name": "stdout",
     "output_type": "stream",
     "text": [
      "F1 Score of AdaBoost Classifier : 0.8070175438596491\n"
     ]
    }
   ],
   "source": [
    "y_pred_abc = abc.predict(X_test)\n",
    "print(\"F1 Score of AdaBoost Classifier :\", f1_score(y_test, y_pred_abc))"
   ]
  },
  {
   "cell_type": "markdown",
   "id": "8f11df4c-7767-4b9f-9e1e-7af0d0d9e28c",
   "metadata": {},
   "source": [
    "# **GridSearchCV**"
   ]
  },
  {
   "cell_type": "code",
   "execution_count": 195,
   "id": "9d80a5d1-e51e-450f-9e42-3bbabc8f4097",
   "metadata": {},
   "outputs": [],
   "source": [
    "from sklearn.model_selection import GridSearchCV"
   ]
  },
  {
   "cell_type": "markdown",
   "id": "f2b624db-8a1a-4ff7-9edd-dd36f03605f7",
   "metadata": {},
   "source": [
    "## **Random Forest Classifier**"
   ]
  },
  {
   "cell_type": "code",
   "execution_count": 205,
   "id": "26ab0bd5-67ae-42b9-8f36-2aad1bbc0e86",
   "metadata": {},
   "outputs": [],
   "source": [
    "from sklearn.ensemble import RandomForestClassifier"
   ]
  },
  {
   "cell_type": "code",
   "execution_count": 206,
   "id": "074321d5-8797-4a34-add3-3bf8d0ce7165",
   "metadata": {},
   "outputs": [],
   "source": [
    "rfc = RandomForestClassifier()\n",
    "\n",
    "params_rfc = {'n_estimators': list(range(300,1100,100)),\n",
    "             'max_depth': [8, 16, 32],           \n",
    "             'max_features': ['log2', 'sqrt']}\n",
    "\n",
    "grid_rfc = GridSearchCV(estimator=rfc,                        \n",
    "                       param_grid=params_rfc,                         \n",
    "                       cv=3,                        \n",
    "                       scoring='accuracy',                        \n",
    "                       verbose=1,                        \n",
    "                       n_jobs=-1)"
   ]
  },
  {
   "cell_type": "code",
   "execution_count": 201,
   "id": "a6ea9f6f-f58f-4212-8992-44a2af61059b",
   "metadata": {},
   "outputs": [
    {
     "name": "stdout",
     "output_type": "stream",
     "text": [
      "Fitting 3 folds for each of 48 candidates, totalling 144 fits\n"
     ]
    },
    {
     "data": {
      "text/plain": [
       "GridSearchCV(cv=3,\n",
       "             estimator=RandomForestClassifier(max_depth=16, n_estimators=500,\n",
       "                                              n_jobs=-1, random_state=42),\n",
       "             n_jobs=-1,\n",
       "             param_grid={'max_depth': [8, 16, 32],\n",
       "                         'max_features': ['log2', 'sqrt'],\n",
       "                         'n_estimators': [300, 400, 500, 600, 700, 800, 900,\n",
       "                                          1000]},\n",
       "             scoring='accuracy', verbose=1)"
      ]
     },
     "execution_count": 201,
     "metadata": {},
     "output_type": "execute_result"
    }
   ],
   "source": [
    "grid_rfc.fit(X_train, y_train)"
   ]
  },
  {
   "cell_type": "code",
   "execution_count": 202,
   "id": "8cee10c1-f80d-4442-9e20-8f9fcb9086d1",
   "metadata": {},
   "outputs": [
    {
     "name": "stdout",
     "output_type": "stream",
     "text": [
      "Best hyerparameters:\n",
      " {'max_depth': 32, 'max_features': 'log2', 'n_estimators': 300}\n",
      "0.8085690059354581\n"
     ]
    }
   ],
   "source": [
    "best_hyperparams = grid_rfc.best_params_\n",
    "print(\"Best hyerparameters:\\n\", best_hyperparams)\n",
    "\n",
    "best_CV_score = grid_rfc.best_score_ \n",
    "print(best_CV_score)\n",
    "\n",
    "best_model = grid_rfc.best_estimator_"
   ]
  },
  {
   "cell_type": "code",
   "execution_count": 210,
   "id": "54870b87-956d-43f8-9e21-90724b9f5bcc",
   "metadata": {},
   "outputs": [
    {
     "name": "stdout",
     "output_type": "stream",
     "text": [
      "F1 Score of Random Forest Classifier : 0.8397790055248618\n"
     ]
    }
   ],
   "source": [
    "y_pred = best_model.predict(X_test)\n",
    "print(\"F1 Score of Random Forest Classifier :\", f1_score(y_test, y_pred))"
   ]
  },
  {
   "cell_type": "markdown",
   "id": "26296eb2-db7e-46e6-b7c4-731eeb55df78",
   "metadata": {},
   "source": [
    "## **Gradient Boosting Classifier**"
   ]
  },
  {
   "cell_type": "code",
   "execution_count": 207,
   "id": "d8583709-745b-4633-b809-880e8c0ab16a",
   "metadata": {},
   "outputs": [],
   "source": [
    "from sklearn.ensemble import GradientBoostingClassifier"
   ]
  },
  {
   "cell_type": "code",
   "execution_count": 208,
   "id": "3971a2ee-6f13-486a-b9b5-8df7b872ca3a",
   "metadata": {},
   "outputs": [],
   "source": [
    "gbc = GradientBoostingClassifier()\n",
    "\n",
    "params_gbc = {'n_estimators': list(range(300,1100,100)),       \n",
    "             'max_features': ['log2', 'sqrt']}\n",
    "\n",
    "grid_gbc = GridSearchCV(estimator=gbc,                        \n",
    "                       param_grid=params_gbc,                         \n",
    "                       cv=3,                        \n",
    "                       scoring='accuracy',                        \n",
    "                       verbose=1,                        \n",
    "                       n_jobs=-1)"
   ]
  },
  {
   "cell_type": "code",
   "execution_count": 209,
   "id": "64518c8d-5d10-4cbc-9bef-1b7fbbf88b45",
   "metadata": {},
   "outputs": [
    {
     "name": "stdout",
     "output_type": "stream",
     "text": [
      "Fitting 3 folds for each of 16 candidates, totalling 48 fits\n"
     ]
    },
    {
     "data": {
      "text/plain": [
       "GridSearchCV(cv=3, estimator=GradientBoostingClassifier(), n_jobs=-1,\n",
       "             param_grid={'max_features': ['log2', 'sqrt'],\n",
       "                         'n_estimators': [300, 400, 500, 600, 700, 800, 900,\n",
       "                                          1000]},\n",
       "             scoring='accuracy', verbose=1)"
      ]
     },
     "execution_count": 209,
     "metadata": {},
     "output_type": "execute_result"
    }
   ],
   "source": [
    "grid_gbc.fit(X_train, y_train)"
   ]
  },
  {
   "cell_type": "code",
   "execution_count": 211,
   "id": "9a97d829-d314-4cb7-af4c-17d22f568d8c",
   "metadata": {},
   "outputs": [
    {
     "name": "stdout",
     "output_type": "stream",
     "text": [
      "Best hyerparameters:\n",
      " {'max_features': 'sqrt', 'n_estimators': 300}\n",
      "0.7820714250087287\n",
      "F1 Score of Gradient Boosting Classifier : 0.8314606741573034\n"
     ]
    }
   ],
   "source": [
    "best_hyperparams = grid_gbc.best_params_\n",
    "print(\"Best hyerparameters:\\n\", best_hyperparams)\n",
    "\n",
    "best_CV_score = grid_gbc.best_score_ \n",
    "print(best_CV_score)\n",
    "\n",
    "best_model = grid_gbc.best_estimator_\n",
    "y_pred = best_model.predict(X_test)\n",
    "print(\"F1 Score of Gradient Boosting Classifier :\", f1_score(y_test, y_pred))"
   ]
  },
  {
   "cell_type": "markdown",
   "id": "f8103031-8fef-45a2-9e15-859c7a9b32a3",
   "metadata": {},
   "source": [
    "## **AdaBoost Classifier**"
   ]
  },
  {
   "cell_type": "code",
   "execution_count": 212,
   "id": "3ed0e6aa-5824-4206-822f-659a31d1ba83",
   "metadata": {},
   "outputs": [],
   "source": [
    "from sklearn.ensemble import AdaBoostClassifier"
   ]
  },
  {
   "cell_type": "code",
   "execution_count": 215,
   "id": "96d85144-397c-40f1-b36d-c433fd14c1eb",
   "metadata": {},
   "outputs": [],
   "source": [
    "abc = AdaBoostClassifier()\n",
    "\n",
    "params_abc = {'n_estimators': list(range(300,1100,100))}\n",
    "\n",
    "grid_abc = GridSearchCV(estimator=abc,                        \n",
    "                       param_grid=params_abc,                         \n",
    "                       cv=3,                        \n",
    "                       scoring='accuracy',                        \n",
    "                       verbose=1,                        \n",
    "                       n_jobs=-1)"
   ]
  },
  {
   "cell_type": "code",
   "execution_count": 216,
   "id": "813dcc05-f323-408d-86a5-a2cd96df5f87",
   "metadata": {},
   "outputs": [
    {
     "name": "stdout",
     "output_type": "stream",
     "text": [
      "Fitting 3 folds for each of 8 candidates, totalling 24 fits\n"
     ]
    },
    {
     "data": {
      "text/plain": [
       "GridSearchCV(cv=3, estimator=AdaBoostClassifier(), n_jobs=-1,\n",
       "             param_grid={'n_estimators': [300, 400, 500, 600, 700, 800, 900,\n",
       "                                          1000]},\n",
       "             scoring='accuracy', verbose=1)"
      ]
     },
     "execution_count": 216,
     "metadata": {},
     "output_type": "execute_result"
    }
   ],
   "source": [
    "grid_abc.fit(X_train, y_train)"
   ]
  },
  {
   "cell_type": "code",
   "execution_count": 217,
   "id": "da8052c1-1066-4d8a-a578-c16d055379bb",
   "metadata": {},
   "outputs": [
    {
     "name": "stdout",
     "output_type": "stream",
     "text": [
      "Best hyerparameters:\n",
      " {'n_estimators': 700}\n",
      "0.7373684473041049\n",
      "F1 Score of AdaBoost Classifier : 0.7861271676300579\n"
     ]
    }
   ],
   "source": [
    "best_hyperparams = grid_abc.best_params_\n",
    "print(\"Best hyerparameters:\\n\", best_hyperparams)\n",
    "\n",
    "best_CV_score = grid_abc.best_score_ \n",
    "print(best_CV_score)\n",
    "\n",
    "best_model = grid_abc.best_estimator_\n",
    "y_pred = best_model.predict(X_test)\n",
    "print(\"F1 Score of AdaBoost Classifier :\", f1_score(y_test, y_pred))"
   ]
  },
  {
   "cell_type": "code",
   "execution_count": null,
   "id": "28b83a79-0d33-46f9-ba4c-2b4d9fa51ace",
   "metadata": {},
   "outputs": [],
   "source": []
  }
 ],
 "metadata": {
  "kernelspec": {
   "display_name": "Python 3 (ipykernel)",
   "language": "python",
   "name": "python3"
  },
  "language_info": {
   "codemirror_mode": {
    "name": "ipython",
    "version": 3
   },
   "file_extension": ".py",
   "mimetype": "text/x-python",
   "name": "python",
   "nbconvert_exporter": "python",
   "pygments_lexer": "ipython3",
   "version": "3.9.12"
  }
 },
 "nbformat": 4,
 "nbformat_minor": 5
}
