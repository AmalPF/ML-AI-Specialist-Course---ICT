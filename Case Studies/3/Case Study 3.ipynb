{
 "cells": [
  {
   "cell_type": "markdown",
   "id": "e513d80b-e473-4d5b-9584-5b38d40703d1",
   "metadata": {},
   "source": [
    "# **Case Study 3: Recommendation System**"
   ]
  },
  {
   "cell_type": "markdown",
   "id": "d7427a8a-8c0e-472c-a935-417a4e633673",
   "metadata": {},
   "source": [
    "## **Importing Libraries**"
   ]
  },
  {
   "cell_type": "code",
   "execution_count": null,
   "id": "13ecf35d-bedf-4eab-89b0-9dbd0e2e8de6",
   "metadata": {},
   "outputs": [],
   "source": []
  }
 ],
 "metadata": {
  "kernelspec": {
   "display_name": "Python 3 (ipykernel)",
   "language": "python",
   "name": "python3"
  },
  "language_info": {
   "codemirror_mode": {
    "name": "ipython",
    "version": 3
   },
   "file_extension": ".py",
   "mimetype": "text/x-python",
   "name": "python",
   "nbconvert_exporter": "python",
   "pygments_lexer": "ipython3",
   "version": "3.9.12"
  }
 },
 "nbformat": 4,
 "nbformat_minor": 5
}
