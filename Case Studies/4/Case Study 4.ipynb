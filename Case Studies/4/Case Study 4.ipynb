{
 "cells": [
  {
   "cell_type": "markdown",
   "id": "8d4c1ec6-4c27-490a-a9bc-30cfe3d24bea",
   "metadata": {},
   "source": [
    "# **Case Study 4: Neural Network and Hyper Parameter Tuning**"
   ]
  },
  {
   "cell_type": "markdown",
   "id": "200e357c-1ca7-4c3b-acfe-8b074b4f9a97",
   "metadata": {},
   "source": [
    "### **Installing required packages**"
   ]
  },
  {
   "cell_type": "code",
   "execution_count": 39,
   "id": "d3665b53-7e3e-4688-b69d-7bd952c1ca25",
   "metadata": {},
   "outputs": [
    {
     "name": "stdout",
     "output_type": "stream",
     "text": [
      "Collecting tensorflow\n",
      "  Downloading tensorflow-2.10.0-cp39-cp39-win_amd64.whl (455.9 MB)\n",
      "Requirement already satisfied: h5py>=2.9.0 in c:\\users\\hp\\anaconda3\\lib\\site-packages (from tensorflow) (3.6.0)\n",
      "Requirement already satisfied: typing-extensions>=3.6.6 in c:\\users\\hp\\anaconda3\\lib\\site-packages (from tensorflow) (4.1.1)\n",
      "Collecting google-pasta>=0.1.1\n",
      "  Using cached google_pasta-0.2.0-py3-none-any.whl (57 kB)\n",
      "Collecting absl-py>=1.0.0\n",
      "  Downloading absl_py-1.3.0-py3-none-any.whl (124 kB)\n",
      "Collecting tensorflow-estimator<2.11,>=2.10.0\n",
      "  Downloading tensorflow_estimator-2.10.0-py2.py3-none-any.whl (438 kB)\n",
      "Requirement already satisfied: six>=1.12.0 in c:\\users\\hp\\anaconda3\\lib\\site-packages (from tensorflow) (1.16.0)\n",
      "Collecting termcolor>=1.1.0\n",
      "  Downloading termcolor-2.0.1-py3-none-any.whl (5.4 kB)\n",
      "Requirement already satisfied: setuptools in c:\\users\\hp\\anaconda3\\lib\\site-packages (from tensorflow) (61.2.0)\n",
      "Collecting keras-preprocessing>=1.1.1\n",
      "  Using cached Keras_Preprocessing-1.1.2-py2.py3-none-any.whl (42 kB)\n",
      "Collecting flatbuffers>=2.0\n",
      "  Downloading flatbuffers-22.9.24-py2.py3-none-any.whl (26 kB)\n",
      "Collecting tensorflow-io-gcs-filesystem>=0.23.1\n",
      "  Downloading tensorflow_io_gcs_filesystem-0.27.0-cp39-cp39-win_amd64.whl (1.5 MB)\n",
      "Requirement already satisfied: packaging in c:\\users\\hp\\anaconda3\\lib\\site-packages (from tensorflow) (21.3)\n",
      "Requirement already satisfied: wrapt>=1.11.0 in c:\\users\\hp\\anaconda3\\lib\\site-packages (from tensorflow) (1.12.1)\n",
      "Collecting keras<2.11,>=2.10.0\n",
      "  Downloading keras-2.10.0-py2.py3-none-any.whl (1.7 MB)\n",
      "Collecting tensorboard<2.11,>=2.10\n",
      "  Downloading tensorboard-2.10.1-py3-none-any.whl (5.9 MB)\n",
      "Collecting gast<=0.4.0,>=0.2.1\n",
      "  Using cached gast-0.4.0-py3-none-any.whl (9.8 kB)\n",
      "Requirement already satisfied: numpy>=1.20 in c:\\users\\hp\\anaconda3\\lib\\site-packages (from tensorflow) (1.21.5)\n",
      "Collecting libclang>=13.0.0\n",
      "  Downloading libclang-14.0.6-py2.py3-none-win_amd64.whl (14.2 MB)\n",
      "Requirement already satisfied: protobuf<3.20,>=3.9.2 in c:\\users\\hp\\anaconda3\\lib\\site-packages (from tensorflow) (3.19.1)\n",
      "Collecting astunparse>=1.6.0\n",
      "  Using cached astunparse-1.6.3-py2.py3-none-any.whl (12 kB)\n",
      "Requirement already satisfied: grpcio<2.0,>=1.24.3 in c:\\users\\hp\\anaconda3\\lib\\site-packages (from tensorflow) (1.42.0)\n",
      "Collecting opt-einsum>=2.3.2\n",
      "  Using cached opt_einsum-3.3.0-py3-none-any.whl (65 kB)\n",
      "Requirement already satisfied: wheel<1.0,>=0.23.0 in c:\\users\\hp\\anaconda3\\lib\\site-packages (from astunparse>=1.6.0->tensorflow) (0.37.1)\n",
      "Requirement already satisfied: google-auth<3,>=1.6.3 in c:\\users\\hp\\anaconda3\\lib\\site-packages (from tensorboard<2.11,>=2.10->tensorflow) (1.33.0)\n",
      "Requirement already satisfied: requests<3,>=2.21.0 in c:\\users\\hp\\anaconda3\\lib\\site-packages (from tensorboard<2.11,>=2.10->tensorflow) (2.27.1)\n",
      "Requirement already satisfied: werkzeug>=1.0.1 in c:\\users\\hp\\anaconda3\\lib\\site-packages (from tensorboard<2.11,>=2.10->tensorflow) (2.0.3)\n",
      "Requirement already satisfied: markdown>=2.6.8 in c:\\users\\hp\\anaconda3\\lib\\site-packages (from tensorboard<2.11,>=2.10->tensorflow) (3.3.4)\n",
      "Collecting tensorboard-plugin-wit>=1.6.0\n",
      "  Using cached tensorboard_plugin_wit-1.8.1-py3-none-any.whl (781 kB)\n",
      "Collecting tensorboard-data-server<0.7.0,>=0.6.0\n",
      "  Using cached tensorboard_data_server-0.6.1-py3-none-any.whl (2.4 kB)\n",
      "Collecting google-auth-oauthlib<0.5,>=0.4.1\n",
      "  Using cached google_auth_oauthlib-0.4.6-py2.py3-none-any.whl (18 kB)\n",
      "Requirement already satisfied: pyasn1-modules>=0.2.1 in c:\\users\\hp\\anaconda3\\lib\\site-packages (from google-auth<3,>=1.6.3->tensorboard<2.11,>=2.10->tensorflow) (0.2.8)\n",
      "Requirement already satisfied: cachetools<5.0,>=2.0.0 in c:\\users\\hp\\anaconda3\\lib\\site-packages (from google-auth<3,>=1.6.3->tensorboard<2.11,>=2.10->tensorflow) (4.2.2)\n",
      "Requirement already satisfied: rsa<5,>=3.1.4 in c:\\users\\hp\\anaconda3\\lib\\site-packages (from google-auth<3,>=1.6.3->tensorboard<2.11,>=2.10->tensorflow) (4.7.2)\n",
      "Collecting requests-oauthlib>=0.7.0\n",
      "  Using cached requests_oauthlib-1.3.1-py2.py3-none-any.whl (23 kB)\n",
      "Requirement already satisfied: pyasn1<0.5.0,>=0.4.6 in c:\\users\\hp\\anaconda3\\lib\\site-packages (from pyasn1-modules>=0.2.1->google-auth<3,>=1.6.3->tensorboard<2.11,>=2.10->tensorflow) (0.4.8)\n",
      "Requirement already satisfied: idna<4,>=2.5 in c:\\users\\hp\\anaconda3\\lib\\site-packages (from requests<3,>=2.21.0->tensorboard<2.11,>=2.10->tensorflow) (3.3)\n",
      "Requirement already satisfied: charset-normalizer~=2.0.0 in c:\\users\\hp\\anaconda3\\lib\\site-packages (from requests<3,>=2.21.0->tensorboard<2.11,>=2.10->tensorflow) (2.0.4)\n",
      "Requirement already satisfied: certifi>=2017.4.17 in c:\\users\\hp\\anaconda3\\lib\\site-packages (from requests<3,>=2.21.0->tensorboard<2.11,>=2.10->tensorflow) (2021.10.8)\n",
      "Requirement already satisfied: urllib3<1.27,>=1.21.1 in c:\\users\\hp\\anaconda3\\lib\\site-packages (from requests<3,>=2.21.0->tensorboard<2.11,>=2.10->tensorflow) (1.26.9)\n",
      "Collecting oauthlib>=3.0.0\n",
      "  Downloading oauthlib-3.2.1-py3-none-any.whl (151 kB)\n",
      "Requirement already satisfied: pyparsing!=3.0.5,>=2.0.2 in c:\\users\\hp\\anaconda3\\lib\\site-packages (from packaging->tensorflow) (3.0.4)\n",
      "Installing collected packages: oauthlib, requests-oauthlib, tensorboard-plugin-wit, tensorboard-data-server, google-auth-oauthlib, absl-py, termcolor, tensorflow-io-gcs-filesystem, tensorflow-estimator, tensorboard, opt-einsum, libclang, keras-preprocessing, keras, google-pasta, gast, flatbuffers, astunparse, tensorflow\n",
      "Successfully installed absl-py-1.3.0 astunparse-1.6.3 flatbuffers-22.9.24 gast-0.4.0 google-auth-oauthlib-0.4.6 google-pasta-0.2.0 keras-2.10.0 keras-preprocessing-1.1.2 libclang-14.0.6 oauthlib-3.2.1 opt-einsum-3.3.0 requests-oauthlib-1.3.1 tensorboard-2.10.1 tensorboard-data-server-0.6.1 tensorboard-plugin-wit-1.8.1 tensorflow-2.10.0 tensorflow-estimator-2.10.0 tensorflow-io-gcs-filesystem-0.27.0 termcolor-2.0.1\n"
     ]
    }
   ],
   "source": [
    "!pip install tensorflow"
   ]
  },
  {
   "cell_type": "markdown",
   "id": "d5d6b09e-2b2d-4085-bd58-7f6a083ba528",
   "metadata": {},
   "source": [
    "## **Importing Libraries**"
   ]
  },
  {
   "cell_type": "code",
   "execution_count": 46,
   "id": "3a1052ca-8dca-4164-9eee-26a7b74d35e8",
   "metadata": {},
   "outputs": [],
   "source": [
    "import pandas as pd\n",
    "import numpy as np\n",
    "\n",
    "from sklearn.preprocessing import LabelEncoder, MinMaxScaler\n",
    "from sklearn.model_selection import train_test_split\n",
    "from sklearn.metrics import confusion_matrix, accuracy_score, f1_score\n",
    "\n",
    "from tensorflow.keras.models import Sequential\n",
    "from tensorflow.keras.layers import Dense, Dropout\n",
    "from tensorflow.keras.callbacks import EarlyStopping"
   ]
  },
  {
   "cell_type": "markdown",
   "id": "02a2e629-e758-4e78-911a-3c41472e5f15",
   "metadata": {},
   "source": [
    "## **Dataset**"
   ]
  },
  {
   "cell_type": "code",
   "execution_count": 2,
   "id": "744319a8-67b4-4499-af2e-85e456be2868",
   "metadata": {},
   "outputs": [],
   "source": [
    "df = pd.read_csv('magic_gamma_telescope04_.csv')"
   ]
  },
  {
   "cell_type": "code",
   "execution_count": 3,
   "id": "4ccd0874-06f5-46ae-9200-91bb7c149727",
   "metadata": {},
   "outputs": [
    {
     "data": {
      "text/html": [
       "<div>\n",
       "<style scoped>\n",
       "    .dataframe tbody tr th:only-of-type {\n",
       "        vertical-align: middle;\n",
       "    }\n",
       "\n",
       "    .dataframe tbody tr th {\n",
       "        vertical-align: top;\n",
       "    }\n",
       "\n",
       "    .dataframe thead th {\n",
       "        text-align: right;\n",
       "    }\n",
       "</style>\n",
       "<table border=\"1\" class=\"dataframe\">\n",
       "  <thead>\n",
       "    <tr style=\"text-align: right;\">\n",
       "      <th></th>\n",
       "      <th>flength</th>\n",
       "      <th>fwidth</th>\n",
       "      <th>fsize</th>\n",
       "      <th>fconc</th>\n",
       "      <th>fconc1</th>\n",
       "      <th>fsym</th>\n",
       "      <th>fm3long</th>\n",
       "      <th>fm3trans</th>\n",
       "      <th>falpha</th>\n",
       "      <th>dist</th>\n",
       "      <th>class</th>\n",
       "    </tr>\n",
       "  </thead>\n",
       "  <tbody>\n",
       "    <tr>\n",
       "      <th>0</th>\n",
       "      <td>28.7967</td>\n",
       "      <td>16.0021</td>\n",
       "      <td>2.6449</td>\n",
       "      <td>0.3918</td>\n",
       "      <td>0.1982</td>\n",
       "      <td>27.7004</td>\n",
       "      <td>22.0110</td>\n",
       "      <td>-8.2027</td>\n",
       "      <td>40.0920</td>\n",
       "      <td>81.8828</td>\n",
       "      <td>g</td>\n",
       "    </tr>\n",
       "    <tr>\n",
       "      <th>1</th>\n",
       "      <td>31.6036</td>\n",
       "      <td>11.7235</td>\n",
       "      <td>2.5185</td>\n",
       "      <td>0.5303</td>\n",
       "      <td>0.3773</td>\n",
       "      <td>26.2722</td>\n",
       "      <td>23.8238</td>\n",
       "      <td>-9.9574</td>\n",
       "      <td>6.3609</td>\n",
       "      <td>205.2610</td>\n",
       "      <td>g</td>\n",
       "    </tr>\n",
       "    <tr>\n",
       "      <th>2</th>\n",
       "      <td>162.0520</td>\n",
       "      <td>136.0310</td>\n",
       "      <td>4.0612</td>\n",
       "      <td>0.0374</td>\n",
       "      <td>0.0187</td>\n",
       "      <td>116.7410</td>\n",
       "      <td>-64.8580</td>\n",
       "      <td>-45.2160</td>\n",
       "      <td>76.9600</td>\n",
       "      <td>256.7880</td>\n",
       "      <td>g</td>\n",
       "    </tr>\n",
       "    <tr>\n",
       "      <th>3</th>\n",
       "      <td>23.8172</td>\n",
       "      <td>9.5728</td>\n",
       "      <td>2.3385</td>\n",
       "      <td>0.6147</td>\n",
       "      <td>0.3922</td>\n",
       "      <td>27.2107</td>\n",
       "      <td>-6.4633</td>\n",
       "      <td>-7.1513</td>\n",
       "      <td>10.4490</td>\n",
       "      <td>116.7370</td>\n",
       "      <td>g</td>\n",
       "    </tr>\n",
       "    <tr>\n",
       "      <th>4</th>\n",
       "      <td>75.1362</td>\n",
       "      <td>30.9205</td>\n",
       "      <td>3.1611</td>\n",
       "      <td>0.3168</td>\n",
       "      <td>0.1832</td>\n",
       "      <td>-5.5277</td>\n",
       "      <td>28.5525</td>\n",
       "      <td>21.8393</td>\n",
       "      <td>4.6480</td>\n",
       "      <td>356.4620</td>\n",
       "      <td>g</td>\n",
       "    </tr>\n",
       "  </tbody>\n",
       "</table>\n",
       "</div>"
      ],
      "text/plain": [
       "    flength    fwidth   fsize   fconc  fconc1      fsym  fm3long  fm3trans  \\\n",
       "0   28.7967   16.0021  2.6449  0.3918  0.1982   27.7004  22.0110   -8.2027   \n",
       "1   31.6036   11.7235  2.5185  0.5303  0.3773   26.2722  23.8238   -9.9574   \n",
       "2  162.0520  136.0310  4.0612  0.0374  0.0187  116.7410 -64.8580  -45.2160   \n",
       "3   23.8172    9.5728  2.3385  0.6147  0.3922   27.2107  -6.4633   -7.1513   \n",
       "4   75.1362   30.9205  3.1611  0.3168  0.1832   -5.5277  28.5525   21.8393   \n",
       "\n",
       "    falpha      dist class  \n",
       "0  40.0920   81.8828     g  \n",
       "1   6.3609  205.2610     g  \n",
       "2  76.9600  256.7880     g  \n",
       "3  10.4490  116.7370     g  \n",
       "4   4.6480  356.4620     g  "
      ]
     },
     "execution_count": 3,
     "metadata": {},
     "output_type": "execute_result"
    }
   ],
   "source": [
    "df.head()"
   ]
  },
  {
   "cell_type": "code",
   "execution_count": 5,
   "id": "719ce51a-dac8-433b-8e60-7100c3232210",
   "metadata": {},
   "outputs": [
    {
     "data": {
      "text/plain": [
       "(19020, 11)"
      ]
     },
     "execution_count": 5,
     "metadata": {},
     "output_type": "execute_result"
    }
   ],
   "source": [
    "df.shape"
   ]
  },
  {
   "cell_type": "code",
   "execution_count": 4,
   "id": "d4dbaeb5-920b-447e-bb67-3950cd48d05b",
   "metadata": {},
   "outputs": [
    {
     "name": "stdout",
     "output_type": "stream",
     "text": [
      "<class 'pandas.core.frame.DataFrame'>\n",
      "RangeIndex: 19020 entries, 0 to 19019\n",
      "Data columns (total 11 columns):\n",
      " #   Column    Non-Null Count  Dtype  \n",
      "---  ------    --------------  -----  \n",
      " 0   flength   19020 non-null  float64\n",
      " 1   fwidth    19020 non-null  float64\n",
      " 2   fsize     19020 non-null  float64\n",
      " 3   fconc     19020 non-null  float64\n",
      " 4   fconc1    19020 non-null  float64\n",
      " 5   fsym      19020 non-null  float64\n",
      " 6   fm3long   19020 non-null  float64\n",
      " 7   fm3trans  19020 non-null  float64\n",
      " 8   falpha    19020 non-null  float64\n",
      " 9   dist      19020 non-null  float64\n",
      " 10  class     19020 non-null  object \n",
      "dtypes: float64(10), object(1)\n",
      "memory usage: 1.6+ MB\n"
     ]
    }
   ],
   "source": [
    "df.info()"
   ]
  },
  {
   "cell_type": "markdown",
   "id": "abfef0f3-0a91-45c8-93c6-91d28af8d4f4",
   "metadata": {},
   "source": [
    "#### Dataset contains no NaN values and all the dependent columns are of numerical type."
   ]
  },
  {
   "cell_type": "code",
   "execution_count": 72,
   "id": "70ac1e13-f47f-434e-a9b5-764db6ca01aa",
   "metadata": {},
   "outputs": [
    {
     "data": {
      "text/html": [
       "<div>\n",
       "<style scoped>\n",
       "    .dataframe tbody tr th:only-of-type {\n",
       "        vertical-align: middle;\n",
       "    }\n",
       "\n",
       "    .dataframe tbody tr th {\n",
       "        vertical-align: top;\n",
       "    }\n",
       "\n",
       "    .dataframe thead th {\n",
       "        text-align: right;\n",
       "    }\n",
       "</style>\n",
       "<table border=\"1\" class=\"dataframe\">\n",
       "  <thead>\n",
       "    <tr style=\"text-align: right;\">\n",
       "      <th></th>\n",
       "      <th>flength</th>\n",
       "      <th>fwidth</th>\n",
       "      <th>fsize</th>\n",
       "      <th>fconc</th>\n",
       "      <th>fconc1</th>\n",
       "      <th>fsym</th>\n",
       "      <th>fm3long</th>\n",
       "      <th>fm3trans</th>\n",
       "      <th>falpha</th>\n",
       "      <th>dist</th>\n",
       "    </tr>\n",
       "  </thead>\n",
       "  <tbody>\n",
       "    <tr>\n",
       "      <th>count</th>\n",
       "      <td>19020.000000</td>\n",
       "      <td>19020.000000</td>\n",
       "      <td>19020.000000</td>\n",
       "      <td>19020.000000</td>\n",
       "      <td>19020.000000</td>\n",
       "      <td>19020.000000</td>\n",
       "      <td>19020.000000</td>\n",
       "      <td>19020.000000</td>\n",
       "      <td>19020.000000</td>\n",
       "      <td>19020.000000</td>\n",
       "    </tr>\n",
       "    <tr>\n",
       "      <th>mean</th>\n",
       "      <td>53.250154</td>\n",
       "      <td>22.180966</td>\n",
       "      <td>2.825017</td>\n",
       "      <td>0.380327</td>\n",
       "      <td>0.214657</td>\n",
       "      <td>-4.331745</td>\n",
       "      <td>10.545545</td>\n",
       "      <td>0.249726</td>\n",
       "      <td>27.645707</td>\n",
       "      <td>193.818026</td>\n",
       "    </tr>\n",
       "    <tr>\n",
       "      <th>std</th>\n",
       "      <td>42.364855</td>\n",
       "      <td>18.346056</td>\n",
       "      <td>0.472599</td>\n",
       "      <td>0.182813</td>\n",
       "      <td>0.110511</td>\n",
       "      <td>59.206062</td>\n",
       "      <td>51.000118</td>\n",
       "      <td>20.827439</td>\n",
       "      <td>26.103621</td>\n",
       "      <td>74.731787</td>\n",
       "    </tr>\n",
       "    <tr>\n",
       "      <th>min</th>\n",
       "      <td>4.283500</td>\n",
       "      <td>0.000000</td>\n",
       "      <td>1.941300</td>\n",
       "      <td>0.013100</td>\n",
       "      <td>0.000300</td>\n",
       "      <td>-457.916100</td>\n",
       "      <td>-331.780000</td>\n",
       "      <td>-205.894700</td>\n",
       "      <td>0.000000</td>\n",
       "      <td>1.282600</td>\n",
       "    </tr>\n",
       "    <tr>\n",
       "      <th>25%</th>\n",
       "      <td>24.336000</td>\n",
       "      <td>11.863800</td>\n",
       "      <td>2.477100</td>\n",
       "      <td>0.235800</td>\n",
       "      <td>0.128475</td>\n",
       "      <td>-20.586550</td>\n",
       "      <td>-12.842775</td>\n",
       "      <td>-10.849375</td>\n",
       "      <td>5.547925</td>\n",
       "      <td>142.492250</td>\n",
       "    </tr>\n",
       "    <tr>\n",
       "      <th>50%</th>\n",
       "      <td>37.147700</td>\n",
       "      <td>17.139900</td>\n",
       "      <td>2.739600</td>\n",
       "      <td>0.354150</td>\n",
       "      <td>0.196500</td>\n",
       "      <td>4.013050</td>\n",
       "      <td>15.314100</td>\n",
       "      <td>0.666200</td>\n",
       "      <td>17.679500</td>\n",
       "      <td>191.851450</td>\n",
       "    </tr>\n",
       "    <tr>\n",
       "      <th>75%</th>\n",
       "      <td>70.122175</td>\n",
       "      <td>24.739475</td>\n",
       "      <td>3.101600</td>\n",
       "      <td>0.503700</td>\n",
       "      <td>0.285225</td>\n",
       "      <td>24.063700</td>\n",
       "      <td>35.837800</td>\n",
       "      <td>10.946425</td>\n",
       "      <td>45.883550</td>\n",
       "      <td>240.563825</td>\n",
       "    </tr>\n",
       "    <tr>\n",
       "      <th>max</th>\n",
       "      <td>334.177000</td>\n",
       "      <td>256.382000</td>\n",
       "      <td>5.323300</td>\n",
       "      <td>0.893000</td>\n",
       "      <td>0.675200</td>\n",
       "      <td>575.240700</td>\n",
       "      <td>238.321000</td>\n",
       "      <td>179.851000</td>\n",
       "      <td>90.000000</td>\n",
       "      <td>495.561000</td>\n",
       "    </tr>\n",
       "  </tbody>\n",
       "</table>\n",
       "</div>"
      ],
      "text/plain": [
       "            flength        fwidth         fsize         fconc        fconc1  \\\n",
       "count  19020.000000  19020.000000  19020.000000  19020.000000  19020.000000   \n",
       "mean      53.250154     22.180966      2.825017      0.380327      0.214657   \n",
       "std       42.364855     18.346056      0.472599      0.182813      0.110511   \n",
       "min        4.283500      0.000000      1.941300      0.013100      0.000300   \n",
       "25%       24.336000     11.863800      2.477100      0.235800      0.128475   \n",
       "50%       37.147700     17.139900      2.739600      0.354150      0.196500   \n",
       "75%       70.122175     24.739475      3.101600      0.503700      0.285225   \n",
       "max      334.177000    256.382000      5.323300      0.893000      0.675200   \n",
       "\n",
       "               fsym       fm3long      fm3trans        falpha          dist  \n",
       "count  19020.000000  19020.000000  19020.000000  19020.000000  19020.000000  \n",
       "mean      -4.331745     10.545545      0.249726     27.645707    193.818026  \n",
       "std       59.206062     51.000118     20.827439     26.103621     74.731787  \n",
       "min     -457.916100   -331.780000   -205.894700      0.000000      1.282600  \n",
       "25%      -20.586550    -12.842775    -10.849375      5.547925    142.492250  \n",
       "50%        4.013050     15.314100      0.666200     17.679500    191.851450  \n",
       "75%       24.063700     35.837800     10.946425     45.883550    240.563825  \n",
       "max      575.240700    238.321000    179.851000     90.000000    495.561000  "
      ]
     },
     "execution_count": 72,
     "metadata": {},
     "output_type": "execute_result"
    }
   ],
   "source": [
    "df.describe()"
   ]
  },
  {
   "cell_type": "markdown",
   "id": "2c48ec74-99f0-4f09-b3b1-deb962bc0308",
   "metadata": {},
   "source": [
    "## **Dependent and Independent Features**"
   ]
  },
  {
   "cell_type": "code",
   "execution_count": 22,
   "id": "8137db49-1794-498b-9243-37308e928e93",
   "metadata": {},
   "outputs": [],
   "source": [
    "X = df.loc[:, df.columns != 'class'].values\n",
    "y = df.loc[:, 'class'].values"
   ]
  },
  {
   "cell_type": "code",
   "execution_count": 23,
   "id": "44a56986-00b9-4413-867a-5c66d5ca298e",
   "metadata": {},
   "outputs": [
    {
     "data": {
      "text/plain": [
       "((19020, 10), (19020,))"
      ]
     },
     "execution_count": 23,
     "metadata": {},
     "output_type": "execute_result"
    }
   ],
   "source": [
    "X.shape, y.shape"
   ]
  },
  {
   "cell_type": "code",
   "execution_count": 24,
   "id": "2ad64c2b-9766-4f45-9dbc-35a5146d2744",
   "metadata": {},
   "outputs": [
    {
     "data": {
      "text/plain": [
       "array([[ 28.7967,  16.0021,   2.6449, ...,  -8.2027,  40.092 ,  81.8828],\n",
       "       [ 31.6036,  11.7235,   2.5185, ...,  -9.9574,   6.3609, 205.261 ],\n",
       "       [162.052 , 136.031 ,   4.0612, ..., -45.216 ,  76.96  , 256.788 ],\n",
       "       ...,\n",
       "       [ 75.4455,  47.5305,   3.4483, ...,  -9.4662,  30.2987, 256.5166],\n",
       "       [120.5135,  76.9018,   3.9939, ..., -63.8389,  84.6874, 408.3166],\n",
       "       [187.1814,  53.0014,   3.2093, ...,  31.4755,  52.731 , 272.3174]])"
      ]
     },
     "execution_count": 24,
     "metadata": {},
     "output_type": "execute_result"
    }
   ],
   "source": [
    "X"
   ]
  },
  {
   "cell_type": "code",
   "execution_count": 25,
   "id": "5a436bdc-f286-436d-ab4d-4d1cd6973ae5",
   "metadata": {},
   "outputs": [
    {
     "data": {
      "text/plain": [
       "array(['g', 'g', 'g', ..., 'h', 'h', 'h'], dtype=object)"
      ]
     },
     "execution_count": 25,
     "metadata": {},
     "output_type": "execute_result"
    }
   ],
   "source": [
    "y"
   ]
  },
  {
   "cell_type": "code",
   "execution_count": 30,
   "id": "0c5f8fe0-a748-454f-a0d7-9ae1ecf679a4",
   "metadata": {},
   "outputs": [
    {
     "data": {
      "text/plain": [
       "array(['g', 'h'], dtype=object)"
      ]
     },
     "execution_count": 30,
     "metadata": {},
     "output_type": "execute_result"
    }
   ],
   "source": [
    "np.unique(y)"
   ]
  },
  {
   "cell_type": "markdown",
   "id": "f58ea27e-5ad8-468f-9c07-813cbf6200db",
   "metadata": {},
   "source": [
    "## **Label Encoding**"
   ]
  },
  {
   "cell_type": "code",
   "execution_count": 32,
   "id": "6bdd8462-7cc7-4786-9368-24465b998c8e",
   "metadata": {},
   "outputs": [],
   "source": [
    "le = LabelEncoder()\n",
    "y = le.fit_transform(y)"
   ]
  },
  {
   "cell_type": "code",
   "execution_count": 33,
   "id": "3f1d8138-8c2d-4ef6-8fec-e3ca798ba57a",
   "metadata": {},
   "outputs": [
    {
     "data": {
      "text/plain": [
       "array([0, 0, 0, ..., 1, 1, 1])"
      ]
     },
     "execution_count": 33,
     "metadata": {},
     "output_type": "execute_result"
    }
   ],
   "source": [
    "y"
   ]
  },
  {
   "cell_type": "code",
   "execution_count": 34,
   "id": "e1bd8b6b-3985-4a32-9ad9-993b1c336aed",
   "metadata": {},
   "outputs": [
    {
     "data": {
      "text/plain": [
       "array([0, 1])"
      ]
     },
     "execution_count": 34,
     "metadata": {},
     "output_type": "execute_result"
    }
   ],
   "source": [
    "np.unique(y)"
   ]
  },
  {
   "cell_type": "markdown",
   "id": "e1fc07a2-8b56-4b07-9391-70967ea2a385",
   "metadata": {},
   "source": [
    "## **Scaling X value**"
   ]
  },
  {
   "cell_type": "code",
   "execution_count": 40,
   "id": "a1e06962-596c-4de0-9a04-93295f3125bd",
   "metadata": {},
   "outputs": [],
   "source": [
    "scaler = MinMaxScaler()\n",
    "X = scaler.fit_transform(X)"
   ]
  },
  {
   "cell_type": "code",
   "execution_count": 41,
   "id": "c308915c-9a2a-4cf3-a556-3b0839a0da2d",
   "metadata": {},
   "outputs": [
    {
     "data": {
      "text/plain": [
       "array([[0.0743064 , 0.06241507, 0.20804258, ..., 0.51249308, 0.44546667,\n",
       "        0.1630664 ],\n",
       "       [0.08281491, 0.04572669, 0.17066824, ..., 0.50794422, 0.07067667,\n",
       "        0.41267917],\n",
       "       [0.4782407 , 0.53057937, 0.62681845, ..., 0.41654048, 0.85511111,\n",
       "        0.51692609],\n",
       "       ...,\n",
       "       [0.21571204, 0.18538938, 0.44559432, ..., 0.5092176 , 0.33665222,\n",
       "        0.51637701],\n",
       "       [0.35232583, 0.29995007, 0.60691898, ..., 0.36826282, 0.94097111,\n",
       "        0.82349138],\n",
       "       [0.55441499, 0.20672824, 0.37492608, ..., 0.61535411, 0.5859    ,\n",
       "        0.54834441]])"
      ]
     },
     "execution_count": 41,
     "metadata": {},
     "output_type": "execute_result"
    }
   ],
   "source": [
    "X"
   ]
  },
  {
   "cell_type": "markdown",
   "id": "d1e2e992-a4b3-419d-ae43-2294b8d3b9b9",
   "metadata": {},
   "source": [
    "## **Train and Test Data**"
   ]
  },
  {
   "cell_type": "code",
   "execution_count": 42,
   "id": "5c27f0f6-98d9-490b-8a21-92d9572a799f",
   "metadata": {},
   "outputs": [],
   "source": [
    "X_train, X_test, y_train, y_test = train_test_split(X, y)"
   ]
  },
  {
   "cell_type": "code",
   "execution_count": 43,
   "id": "0b59ddf1-cff6-47f5-824f-63d5f9978637",
   "metadata": {},
   "outputs": [
    {
     "data": {
      "text/plain": [
       "((14265, 10), (4755, 10), (14265,), (4755,))"
      ]
     },
     "execution_count": 43,
     "metadata": {},
     "output_type": "execute_result"
    }
   ],
   "source": [
    "X_train.shape, X_test.shape, y_train.shape, y_test.shape"
   ]
  },
  {
   "cell_type": "markdown",
   "id": "e059b924-8607-4274-88bd-a84e1c23fd65",
   "metadata": {},
   "source": [
    "## **Model Building**"
   ]
  },
  {
   "cell_type": "code",
   "execution_count": 163,
   "id": "a541902c-d1e2-4b03-8d38-049367b738e9",
   "metadata": {},
   "outputs": [],
   "source": [
    "model = Sequential()\n",
    "model.add(Dense(5, input_shape=(10,), activation='relu'))\n",
    "model.add(Dense(1, activation='sigmoid'))\n",
    "\n",
    "model.compile(optimizer='adam', loss='binary_crossentropy', metrics=['accuracy'])"
   ]
  },
  {
   "cell_type": "code",
   "execution_count": 164,
   "id": "c7cd3c38-c8fb-4a0e-beab-608571c42d9c",
   "metadata": {},
   "outputs": [
    {
     "name": "stdout",
     "output_type": "stream",
     "text": [
      "Model: \"sequential_3\"\n",
      "_________________________________________________________________\n",
      " Layer (type)                Output Shape              Param #   \n",
      "=================================================================\n",
      " dense_6 (Dense)             (None, 5)                 55        \n",
      "                                                                 \n",
      " dense_7 (Dense)             (None, 1)                 6         \n",
      "                                                                 \n",
      "=================================================================\n",
      "Total params: 61\n",
      "Trainable params: 61\n",
      "Non-trainable params: 0\n",
      "_________________________________________________________________\n"
     ]
    }
   ],
   "source": [
    "model.summary()"
   ]
  },
  {
   "cell_type": "code",
   "execution_count": 165,
   "id": "54f4c627-7b2c-4b22-9a23-e7da523ab818",
   "metadata": {},
   "outputs": [],
   "source": [
    "early_stop = EarlyStopping(monitor='accuracy', patience=5)"
   ]
  },
  {
   "cell_type": "code",
   "execution_count": 166,
   "id": "bd470af6-b1f2-41ce-86d3-c04d41029a9d",
   "metadata": {},
   "outputs": [
    {
     "name": "stdout",
     "output_type": "stream",
     "text": [
      "Epoch 1/100\n",
      "446/446 [==============================] - 1s 2ms/step - loss: 0.6243 - accuracy: 0.6715 - val_loss: 0.5727 - val_accuracy: 0.7411\n",
      "Epoch 2/100\n",
      "446/446 [==============================] - 1s 2ms/step - loss: 0.5360 - accuracy: 0.7596 - val_loss: 0.5065 - val_accuracy: 0.7642\n",
      "Epoch 3/100\n",
      "446/446 [==============================] - 1s 2ms/step - loss: 0.4930 - accuracy: 0.7759 - val_loss: 0.4867 - val_accuracy: 0.7851\n",
      "Epoch 4/100\n",
      "446/446 [==============================] - 1s 2ms/step - loss: 0.4790 - accuracy: 0.7833 - val_loss: 0.4752 - val_accuracy: 0.7802\n",
      "Epoch 5/100\n",
      "446/446 [==============================] - 1s 2ms/step - loss: 0.4716 - accuracy: 0.7870 - val_loss: 0.4707 - val_accuracy: 0.7844\n",
      "Epoch 6/100\n",
      "446/446 [==============================] - 1s 2ms/step - loss: 0.4673 - accuracy: 0.7891 - val_loss: 0.4682 - val_accuracy: 0.7853\n",
      "Epoch 7/100\n",
      "446/446 [==============================] - 1s 2ms/step - loss: 0.4637 - accuracy: 0.7914 - val_loss: 0.4653 - val_accuracy: 0.7853\n",
      "Epoch 8/100\n",
      "446/446 [==============================] - 1s 2ms/step - loss: 0.4609 - accuracy: 0.7914 - val_loss: 0.4629 - val_accuracy: 0.7851\n",
      "Epoch 9/100\n",
      "446/446 [==============================] - 1s 2ms/step - loss: 0.4587 - accuracy: 0.7914 - val_loss: 0.4616 - val_accuracy: 0.7849\n",
      "Epoch 10/100\n",
      "446/446 [==============================] - 1s 2ms/step - loss: 0.4572 - accuracy: 0.7914 - val_loss: 0.4605 - val_accuracy: 0.7863\n",
      "Epoch 11/100\n",
      "446/446 [==============================] - 1s 2ms/step - loss: 0.4559 - accuracy: 0.7895 - val_loss: 0.4604 - val_accuracy: 0.7811\n",
      "Epoch 12/100\n",
      "446/446 [==============================] - 1s 2ms/step - loss: 0.4550 - accuracy: 0.7889 - val_loss: 0.4591 - val_accuracy: 0.7832\n",
      "Epoch 13/100\n",
      "446/446 [==============================] - 1s 2ms/step - loss: 0.4537 - accuracy: 0.7886 - val_loss: 0.4591 - val_accuracy: 0.7823\n",
      "Epoch 14/100\n",
      "446/446 [==============================] - 1s 2ms/step - loss: 0.4532 - accuracy: 0.7893 - val_loss: 0.4582 - val_accuracy: 0.7819\n"
     ]
    },
    {
     "data": {
      "text/plain": [
       "<keras.callbacks.History at 0x220be0b9f70>"
      ]
     },
     "execution_count": 166,
     "metadata": {},
     "output_type": "execute_result"
    }
   ],
   "source": [
    "model.fit(X_train, y_train, epochs=100, batch_size=32, callbacks=[early_stop], validation_data=(X_test, y_test)) "
   ]
  },
  {
   "cell_type": "markdown",
   "id": "97a11386-d30a-49ae-84f3-2e7c2dffedca",
   "metadata": {
    "tags": []
   },
   "source": [
    "## **Model Evaluation**"
   ]
  },
  {
   "cell_type": "code",
   "execution_count": 167,
   "id": "bf9f83aa-497c-40a6-b917-e729eae6436a",
   "metadata": {},
   "outputs": [
    {
     "name": "stdout",
     "output_type": "stream",
     "text": [
      "149/149 [==============================] - 0s 1ms/step - loss: 0.4582 - accuracy: 0.7819\n"
     ]
    },
    {
     "data": {
      "text/plain": [
       "[0.4582381546497345, 0.7819137573242188]"
      ]
     },
     "execution_count": 167,
     "metadata": {},
     "output_type": "execute_result"
    }
   ],
   "source": [
    "model.evaluate(X_test, y_test)"
   ]
  },
  {
   "cell_type": "code",
   "execution_count": 168,
   "id": "5f25c0e6-0f17-48f0-9ff1-50da8e98ac6a",
   "metadata": {},
   "outputs": [
    {
     "name": "stdout",
     "output_type": "stream",
     "text": [
      "149/149 [==============================] - 0s 1ms/step\n"
     ]
    },
    {
     "data": {
      "text/plain": [
       "array([0, 0, 0, ..., 0, 0, 0])"
      ]
     },
     "execution_count": 168,
     "metadata": {},
     "output_type": "execute_result"
    }
   ],
   "source": [
    "y_pred = model.predict(X_test).flatten()\n",
    "y_pred = (y_pred>0.5).astype('int')\n",
    "y_pred"
   ]
  },
  {
   "cell_type": "code",
   "execution_count": 169,
   "id": "ea096e30-0d85-4d83-9b77-582a9cc7c6ab",
   "metadata": {},
   "outputs": [
    {
     "data": {
      "text/plain": [
       "array([[2821,  281],\n",
       "       [ 756,  897]], dtype=int64)"
      ]
     },
     "execution_count": 169,
     "metadata": {},
     "output_type": "execute_result"
    }
   ],
   "source": [
    "confusion_matrix(y_test, y_pred)"
   ]
  },
  {
   "cell_type": "code",
   "execution_count": 170,
   "id": "52006c2d-7f0e-40ef-93d0-838eee2619f7",
   "metadata": {},
   "outputs": [
    {
     "data": {
      "text/plain": [
       "0.7819137749737118"
      ]
     },
     "execution_count": 170,
     "metadata": {},
     "output_type": "execute_result"
    }
   ],
   "source": [
    "accuracy_score(y_test, y_pred)"
   ]
  },
  {
   "cell_type": "code",
   "execution_count": 171,
   "id": "14372e0b-da54-4e73-afdf-ca2a7de22423",
   "metadata": {},
   "outputs": [
    {
     "data": {
      "text/plain": [
       "0.6336983398092547"
      ]
     },
     "execution_count": 171,
     "metadata": {},
     "output_type": "execute_result"
    }
   ],
   "source": [
    "f1_score(y_test, y_pred)"
   ]
  },
  {
   "cell_type": "markdown",
   "id": "4de4bf81-64d4-426f-870f-43df3b6305e0",
   "metadata": {},
   "source": [
    "#### The initial model gives an accuracy of 78.19% and f1 score of 63.36%"
   ]
  },
  {
   "cell_type": "markdown",
   "id": "14287cb0-06f4-4b3d-9bfb-884f0f8469ea",
   "metadata": {},
   "source": [
    "## **Hyper Parameter Tuning**"
   ]
  },
  {
   "cell_type": "code",
   "execution_count": 101,
   "id": "a9327c3c-98e6-4b5d-908b-9b4946198f83",
   "metadata": {},
   "outputs": [],
   "source": [
    "from keras_tuner.tuners import RandomSearch"
   ]
  },
  {
   "cell_type": "code",
   "execution_count": 145,
   "id": "e24caca0-6e50-4b32-9f71-844379ca67eb",
   "metadata": {},
   "outputs": [],
   "source": [
    "def build_model(hp):\n",
    "    model = Sequential()\n",
    "    model.add(Dense(hp.Int('Neurons', min_value=10, max_value=30, step=5), \n",
    "                    input_shape=(10,), activation='relu'))\n",
    "    model.add(Dropout(hp.Float('Dropouts', min_value=0.1, max_value=0.5, step=0.1)))\n",
    "    model.add(Dense(1, activation='sigmoid'))\n",
    "    model.compile(optimizer=hp.Choice('Optimizer', values=['adam', 'sgd']), loss='binary_crossentropy', metrics=['accuracy'])\n",
    "    return model"
   ]
  },
  {
   "cell_type": "code",
   "execution_count": 146,
   "id": "ea5212c3-0152-4bd8-ad58-566fc66de422",
   "metadata": {},
   "outputs": [
    {
     "name": "stdout",
     "output_type": "stream",
     "text": [
      "INFO:tensorflow:Reloading Oracle from existing project .\\untitled_project\\oracle.json\n",
      "INFO:tensorflow:Reloading Tuner from .\\untitled_project\\tuner0.json\n"
     ]
    }
   ],
   "source": [
    "tuner = RandomSearch(build_model,\n",
    "                     objective='accuracy')\n",
    "                     #max_trials=5,\n",
    "                     #executions_per_trial=3)"
   ]
  },
  {
   "cell_type": "code",
   "execution_count": 147,
   "id": "339d806a-0f65-42ea-b99c-cd2ab1191a17",
   "metadata": {},
   "outputs": [
    {
     "name": "stdout",
     "output_type": "stream",
     "text": [
      "Search space summary\n",
      "Default search space size: 3\n",
      "Neurons (Int)\n",
      "{'default': None, 'conditions': [], 'min_value': 10, 'max_value': 30, 'step': 5, 'sampling': None}\n",
      "Dropouts (Float)\n",
      "{'default': 0.1, 'conditions': [], 'min_value': 0.1, 'max_value': 0.5, 'step': 0.1, 'sampling': None}\n",
      "Optimizer (Choice)\n",
      "{'default': 'adam', 'conditions': [], 'values': ['adam', 'sgd'], 'ordered': False}\n"
     ]
    }
   ],
   "source": [
    "tuner.search_space_summary()"
   ]
  },
  {
   "cell_type": "code",
   "execution_count": 148,
   "id": "f483b4c7-0ef4-4ef3-8886-85790ed618d6",
   "metadata": {},
   "outputs": [
    {
     "name": "stdout",
     "output_type": "stream",
     "text": [
      "Trial 10 Complete [00h 00m 34s]\n",
      "accuracy: 0.7988082766532898\n",
      "\n",
      "Best accuracy So Far: 0.8397476077079773\n",
      "Total elapsed time: 00h 03m 22s\n",
      "INFO:tensorflow:Oracle triggered exit\n"
     ]
    }
   ],
   "source": [
    "tuner.search(X_train, y_train, epochs=50, batch_size=32, callbacks=[early_stop], validation_data=(X_test, y_test))"
   ]
  },
  {
   "cell_type": "code",
   "execution_count": 149,
   "id": "487484ef-7b02-4737-b604-4557d37ebd7c",
   "metadata": {},
   "outputs": [
    {
     "name": "stdout",
     "output_type": "stream",
     "text": [
      "Results summary\n",
      "Results in .\\untitled_project\n",
      "Showing 10 best trials\n",
      "<keras_tuner.engine.objective.Objective object at 0x00000220B00A3640>\n",
      "Trial summary\n",
      "Hyperparameters:\n",
      "Neurons: 15\n",
      "Dropouts: 0.1\n",
      "Optimizer: adam\n",
      "Score: 0.8397476077079773\n",
      "Trial summary\n",
      "Hyperparameters:\n",
      "Neurons: 15\n",
      "Dropouts: 0.30000000000000004\n",
      "Optimizer: adam\n",
      "Score: 0.8268489241600037\n",
      "Trial summary\n",
      "Hyperparameters:\n",
      "Neurons: 15\n",
      "Dropouts: 0.2\n",
      "Optimizer: adam\n",
      "Score: 0.8263581991195679\n",
      "Trial summary\n",
      "Hyperparameters:\n",
      "Neurons: 10\n",
      "Dropouts: 0.4\n",
      "Optimizer: adam\n",
      "Score: 0.8060287435849508\n",
      "Trial summary\n",
      "Hyperparameters:\n",
      "Neurons: 30\n",
      "Dropouts: 0.2\n",
      "Optimizer: sgd\n",
      "Score: 0.8052108685175577\n",
      "Trial summary\n",
      "Hyperparameters:\n",
      "Neurons: 20\n",
      "Dropouts: 0.2\n",
      "Optimizer: sgd\n",
      "Score: 0.8043930331865946\n",
      "Trial summary\n",
      "Hyperparameters:\n",
      "Neurons: 25\n",
      "Dropouts: 0.2\n",
      "Optimizer: sgd\n",
      "Score: 0.8007711172103882\n",
      "Trial summary\n",
      "Hyperparameters:\n",
      "Neurons: 10\n",
      "Dropouts: 0.1\n",
      "Optimizer: sgd\n",
      "Score: 0.7990185817082723\n",
      "Trial summary\n",
      "Hyperparameters:\n",
      "Neurons: 30\n",
      "Dropouts: 0.4\n",
      "Optimizer: sgd\n",
      "Score: 0.7988082766532898\n",
      "Trial summary\n",
      "Hyperparameters:\n",
      "Neurons: 10\n",
      "Dropouts: 0.5\n",
      "Optimizer: sgd\n",
      "Score: 0.7723098397254944\n"
     ]
    }
   ],
   "source": [
    "tuner.results_summary()"
   ]
  },
  {
   "cell_type": "markdown",
   "id": "fcbac6f7-91c5-4f5e-967a-4db2d2f88f3a",
   "metadata": {},
   "source": [
    "## **Best Model**\n",
    "\n",
    "Neurons: 15  \n",
    "Dropouts: 0.1  \n",
    "Optimizer: adam  "
   ]
  },
  {
   "cell_type": "code",
   "execution_count": 175,
   "id": "9cfb9555-979f-4436-9cf0-9bcedc521822",
   "metadata": {},
   "outputs": [],
   "source": [
    "final_model = Sequential()\n",
    "final_model.add(Dense(15, input_shape=(10,), activation='relu'))\n",
    "final_model.add(Dropout(0.1))\n",
    "final_model.add(Dense(1, activation='sigmoid'))\n",
    "\n",
    "final_model.compile(optimizer='adam', loss='binary_crossentropy', metrics=['accuracy'])"
   ]
  },
  {
   "cell_type": "code",
   "execution_count": 176,
   "id": "44235f41-6008-4099-91ac-2f88357c5610",
   "metadata": {},
   "outputs": [
    {
     "name": "stdout",
     "output_type": "stream",
     "text": [
      "Model: \"sequential_6\"\n",
      "_________________________________________________________________\n",
      " Layer (type)                Output Shape              Param #   \n",
      "=================================================================\n",
      " dense_10 (Dense)            (None, 15)                165       \n",
      "                                                                 \n",
      " dropout_1 (Dropout)         (None, 15)                0         \n",
      "                                                                 \n",
      " dense_11 (Dense)            (None, 1)                 16        \n",
      "                                                                 \n",
      "=================================================================\n",
      "Total params: 181\n",
      "Trainable params: 181\n",
      "Non-trainable params: 0\n",
      "_________________________________________________________________\n"
     ]
    }
   ],
   "source": [
    "final_model.summary()"
   ]
  },
  {
   "cell_type": "code",
   "execution_count": 177,
   "id": "d126e7f2-c44b-49c1-8b29-321613209bd5",
   "metadata": {},
   "outputs": [
    {
     "name": "stdout",
     "output_type": "stream",
     "text": [
      "Epoch 1/100\n",
      "446/446 [==============================] - 2s 3ms/step - loss: 0.5895 - accuracy: 0.6971 - val_loss: 0.5138 - val_accuracy: 0.7613\n",
      "Epoch 2/100\n",
      "446/446 [==============================] - 1s 2ms/step - loss: 0.4950 - accuracy: 0.7750 - val_loss: 0.4737 - val_accuracy: 0.7834\n",
      "Epoch 3/100\n",
      "446/446 [==============================] - 1s 2ms/step - loss: 0.4717 - accuracy: 0.7877 - val_loss: 0.4586 - val_accuracy: 0.7937\n",
      "Epoch 4/100\n",
      "446/446 [==============================] - 1s 2ms/step - loss: 0.4559 - accuracy: 0.7921 - val_loss: 0.4483 - val_accuracy: 0.7958\n",
      "Epoch 5/100\n",
      "446/446 [==============================] - 1s 2ms/step - loss: 0.4444 - accuracy: 0.7962 - val_loss: 0.4399 - val_accuracy: 0.7966\n",
      "Epoch 6/100\n",
      "446/446 [==============================] - 1s 2ms/step - loss: 0.4394 - accuracy: 0.7973 - val_loss: 0.4362 - val_accuracy: 0.8004\n",
      "Epoch 7/100\n",
      "446/446 [==============================] - 1s 2ms/step - loss: 0.4357 - accuracy: 0.7996 - val_loss: 0.4307 - val_accuracy: 0.7989\n",
      "Epoch 8/100\n",
      "446/446 [==============================] - 1s 2ms/step - loss: 0.4318 - accuracy: 0.8018 - val_loss: 0.4267 - val_accuracy: 0.8015\n",
      "Epoch 9/100\n",
      "446/446 [==============================] - 1s 2ms/step - loss: 0.4256 - accuracy: 0.8035 - val_loss: 0.4238 - val_accuracy: 0.8017\n",
      "Epoch 10/100\n",
      "446/446 [==============================] - 1s 3ms/step - loss: 0.4238 - accuracy: 0.8057 - val_loss: 0.4208 - val_accuracy: 0.8032\n",
      "Epoch 11/100\n",
      "446/446 [==============================] - 1s 2ms/step - loss: 0.4194 - accuracy: 0.8050 - val_loss: 0.4191 - val_accuracy: 0.8023\n",
      "Epoch 12/100\n",
      "446/446 [==============================] - 1s 2ms/step - loss: 0.4199 - accuracy: 0.8064 - val_loss: 0.4199 - val_accuracy: 0.8109\n",
      "Epoch 13/100\n",
      "446/446 [==============================] - 1s 2ms/step - loss: 0.4169 - accuracy: 0.8082 - val_loss: 0.4154 - val_accuracy: 0.8135\n",
      "Epoch 14/100\n",
      "446/446 [==============================] - 1s 2ms/step - loss: 0.4165 - accuracy: 0.8118 - val_loss: 0.4114 - val_accuracy: 0.8126\n",
      "Epoch 15/100\n",
      "446/446 [==============================] - 1s 2ms/step - loss: 0.4131 - accuracy: 0.8104 - val_loss: 0.4090 - val_accuracy: 0.8158\n",
      "Epoch 16/100\n",
      "446/446 [==============================] - 1s 2ms/step - loss: 0.4115 - accuracy: 0.8138 - val_loss: 0.4073 - val_accuracy: 0.8168\n",
      "Epoch 17/100\n",
      "446/446 [==============================] - 1s 2ms/step - loss: 0.4091 - accuracy: 0.8160 - val_loss: 0.4060 - val_accuracy: 0.8151\n",
      "Epoch 18/100\n",
      "446/446 [==============================] - 1s 2ms/step - loss: 0.4091 - accuracy: 0.8175 - val_loss: 0.4040 - val_accuracy: 0.8168\n",
      "Epoch 19/100\n",
      "446/446 [==============================] - 1s 2ms/step - loss: 0.4050 - accuracy: 0.8210 - val_loss: 0.4012 - val_accuracy: 0.8242\n",
      "Epoch 20/100\n",
      "446/446 [==============================] - 1s 2ms/step - loss: 0.4045 - accuracy: 0.8193 - val_loss: 0.4004 - val_accuracy: 0.8189\n",
      "Epoch 21/100\n",
      "446/446 [==============================] - 1s 2ms/step - loss: 0.4014 - accuracy: 0.8237 - val_loss: 0.3970 - val_accuracy: 0.8290\n",
      "Epoch 22/100\n",
      "446/446 [==============================] - 1s 2ms/step - loss: 0.4018 - accuracy: 0.8254 - val_loss: 0.3956 - val_accuracy: 0.8273\n",
      "Epoch 23/100\n",
      "446/446 [==============================] - 1s 2ms/step - loss: 0.3992 - accuracy: 0.8243 - val_loss: 0.3942 - val_accuracy: 0.8271\n",
      "Epoch 24/100\n",
      "446/446 [==============================] - 1s 2ms/step - loss: 0.3963 - accuracy: 0.8243 - val_loss: 0.3930 - val_accuracy: 0.8301\n",
      "Epoch 25/100\n",
      "446/446 [==============================] - 1s 2ms/step - loss: 0.3966 - accuracy: 0.8278 - val_loss: 0.3925 - val_accuracy: 0.8309\n",
      "Epoch 26/100\n",
      "446/446 [==============================] - 1s 2ms/step - loss: 0.3958 - accuracy: 0.8268 - val_loss: 0.3914 - val_accuracy: 0.8267\n",
      "Epoch 27/100\n",
      "446/446 [==============================] - 1s 3ms/step - loss: 0.3942 - accuracy: 0.8273 - val_loss: 0.3888 - val_accuracy: 0.8341\n",
      "Epoch 28/100\n",
      "446/446 [==============================] - 1s 2ms/step - loss: 0.3933 - accuracy: 0.8280 - val_loss: 0.3881 - val_accuracy: 0.8351\n",
      "Epoch 29/100\n",
      "446/446 [==============================] - 1s 2ms/step - loss: 0.3927 - accuracy: 0.8280 - val_loss: 0.3873 - val_accuracy: 0.8362\n",
      "Epoch 30/100\n",
      "446/446 [==============================] - 1s 2ms/step - loss: 0.3907 - accuracy: 0.8315 - val_loss: 0.3855 - val_accuracy: 0.8345\n",
      "Epoch 31/100\n",
      "446/446 [==============================] - 1s 2ms/step - loss: 0.3922 - accuracy: 0.8311 - val_loss: 0.3863 - val_accuracy: 0.8362\n",
      "Epoch 32/100\n",
      "446/446 [==============================] - 1s 2ms/step - loss: 0.3879 - accuracy: 0.8308 - val_loss: 0.3828 - val_accuracy: 0.8381\n",
      "Epoch 33/100\n",
      "446/446 [==============================] - 1s 2ms/step - loss: 0.3881 - accuracy: 0.8319 - val_loss: 0.3828 - val_accuracy: 0.8379\n",
      "Epoch 34/100\n",
      "446/446 [==============================] - 1s 2ms/step - loss: 0.3876 - accuracy: 0.8352 - val_loss: 0.3841 - val_accuracy: 0.8330\n",
      "Epoch 35/100\n",
      "446/446 [==============================] - 1s 2ms/step - loss: 0.3872 - accuracy: 0.8352 - val_loss: 0.3803 - val_accuracy: 0.8397\n",
      "Epoch 36/100\n",
      "446/446 [==============================] - 1s 2ms/step - loss: 0.3859 - accuracy: 0.8355 - val_loss: 0.3808 - val_accuracy: 0.8345\n",
      "Epoch 37/100\n",
      "446/446 [==============================] - 1s 2ms/step - loss: 0.3852 - accuracy: 0.8359 - val_loss: 0.3795 - val_accuracy: 0.8374\n",
      "Epoch 38/100\n",
      "446/446 [==============================] - 1s 2ms/step - loss: 0.3829 - accuracy: 0.8365 - val_loss: 0.3783 - val_accuracy: 0.8412\n",
      "Epoch 39/100\n",
      "446/446 [==============================] - 1s 2ms/step - loss: 0.3833 - accuracy: 0.8365 - val_loss: 0.3780 - val_accuracy: 0.8376\n",
      "Epoch 40/100\n",
      "446/446 [==============================] - 1s 2ms/step - loss: 0.3832 - accuracy: 0.8351 - val_loss: 0.3762 - val_accuracy: 0.8393\n",
      "Epoch 41/100\n",
      "446/446 [==============================] - 1s 2ms/step - loss: 0.3822 - accuracy: 0.8386 - val_loss: 0.3754 - val_accuracy: 0.8402\n",
      "Epoch 42/100\n",
      "446/446 [==============================] - 1s 2ms/step - loss: 0.3801 - accuracy: 0.8374 - val_loss: 0.3748 - val_accuracy: 0.8429\n",
      "Epoch 43/100\n",
      "446/446 [==============================] - 1s 2ms/step - loss: 0.3825 - accuracy: 0.8348 - val_loss: 0.3751 - val_accuracy: 0.8431\n",
      "Epoch 44/100\n",
      "446/446 [==============================] - 1s 2ms/step - loss: 0.3784 - accuracy: 0.8396 - val_loss: 0.3726 - val_accuracy: 0.8444\n",
      "Epoch 45/100\n",
      "446/446 [==============================] - 1s 2ms/step - loss: 0.3780 - accuracy: 0.8365 - val_loss: 0.3726 - val_accuracy: 0.8442\n",
      "Epoch 46/100\n",
      "446/446 [==============================] - 1s 2ms/step - loss: 0.3791 - accuracy: 0.8404 - val_loss: 0.3731 - val_accuracy: 0.8437\n",
      "Epoch 47/100\n",
      "446/446 [==============================] - 1s 2ms/step - loss: 0.3756 - accuracy: 0.8402 - val_loss: 0.3699 - val_accuracy: 0.8448\n",
      "Epoch 48/100\n",
      "446/446 [==============================] - 1s 2ms/step - loss: 0.3755 - accuracy: 0.8407 - val_loss: 0.3722 - val_accuracy: 0.8421\n",
      "Epoch 49/100\n",
      "446/446 [==============================] - 1s 2ms/step - loss: 0.3756 - accuracy: 0.8415 - val_loss: 0.3694 - val_accuracy: 0.8467\n",
      "Epoch 50/100\n",
      "446/446 [==============================] - 1s 2ms/step - loss: 0.3771 - accuracy: 0.8404 - val_loss: 0.3692 - val_accuracy: 0.8475\n",
      "Epoch 51/100\n",
      "446/446 [==============================] - 1s 2ms/step - loss: 0.3728 - accuracy: 0.8429 - val_loss: 0.3662 - val_accuracy: 0.8477\n",
      "Epoch 52/100\n",
      "446/446 [==============================] - 1s 2ms/step - loss: 0.3758 - accuracy: 0.8409 - val_loss: 0.3665 - val_accuracy: 0.8490\n",
      "Epoch 53/100\n",
      "446/446 [==============================] - 1s 2ms/step - loss: 0.3737 - accuracy: 0.8432 - val_loss: 0.3663 - val_accuracy: 0.8488\n",
      "Epoch 54/100\n",
      "446/446 [==============================] - 1s 2ms/step - loss: 0.3734 - accuracy: 0.8444 - val_loss: 0.3663 - val_accuracy: 0.8479\n",
      "Epoch 55/100\n",
      "446/446 [==============================] - 1s 2ms/step - loss: 0.3719 - accuracy: 0.8448 - val_loss: 0.3643 - val_accuracy: 0.8492\n",
      "Epoch 56/100\n",
      "446/446 [==============================] - 1s 2ms/step - loss: 0.3716 - accuracy: 0.8444 - val_loss: 0.3624 - val_accuracy: 0.8511\n",
      "Epoch 57/100\n",
      "446/446 [==============================] - 1s 2ms/step - loss: 0.3698 - accuracy: 0.8432 - val_loss: 0.3664 - val_accuracy: 0.8482\n",
      "Epoch 58/100\n",
      "446/446 [==============================] - 1s 2ms/step - loss: 0.3691 - accuracy: 0.8445 - val_loss: 0.3644 - val_accuracy: 0.8492\n",
      "Epoch 59/100\n",
      "446/446 [==============================] - 1s 2ms/step - loss: 0.3700 - accuracy: 0.8458 - val_loss: 0.3621 - val_accuracy: 0.8503\n",
      "Epoch 60/100\n",
      "446/446 [==============================] - 1s 2ms/step - loss: 0.3667 - accuracy: 0.8455 - val_loss: 0.3609 - val_accuracy: 0.8492\n",
      "Epoch 61/100\n",
      "446/446 [==============================] - 1s 2ms/step - loss: 0.3686 - accuracy: 0.8442 - val_loss: 0.3626 - val_accuracy: 0.8492\n",
      "Epoch 62/100\n",
      "446/446 [==============================] - 1s 2ms/step - loss: 0.3653 - accuracy: 0.8444 - val_loss: 0.3597 - val_accuracy: 0.8509\n",
      "Epoch 63/100\n",
      "446/446 [==============================] - 1s 3ms/step - loss: 0.3679 - accuracy: 0.8450 - val_loss: 0.3602 - val_accuracy: 0.8522\n",
      "Epoch 64/100\n",
      "446/446 [==============================] - 1s 2ms/step - loss: 0.3652 - accuracy: 0.8458 - val_loss: 0.3578 - val_accuracy: 0.8530\n"
     ]
    },
    {
     "data": {
      "text/plain": [
       "<keras.callbacks.History at 0x220b3ad0d00>"
      ]
     },
     "execution_count": 177,
     "metadata": {},
     "output_type": "execute_result"
    }
   ],
   "source": [
    "final_model.fit(X_train, y_train, epochs=100, batch_size=32, callbacks=[early_stop], validation_data=(X_test, y_test)) "
   ]
  },
  {
   "cell_type": "code",
   "execution_count": null,
   "id": "00918398-fd99-4033-8046-44cd2c934a56",
   "metadata": {},
   "outputs": [],
   "source": []
  },
  {
   "cell_type": "code",
   "execution_count": null,
   "id": "13693c34-e62a-43de-bc27-d61171142be1",
   "metadata": {},
   "outputs": [],
   "source": []
  },
  {
   "cell_type": "code",
   "execution_count": null,
   "id": "295452b0-788b-42ad-93ac-16b66ebed68f",
   "metadata": {},
   "outputs": [],
   "source": []
  },
  {
   "cell_type": "code",
   "execution_count": null,
   "id": "721aaf5a-21ce-4178-83e4-53f10571f7cd",
   "metadata": {},
   "outputs": [],
   "source": []
  },
  {
   "cell_type": "markdown",
   "id": "e57d476c-4718-4a43-af58-255425bc3d35",
   "metadata": {
    "tags": []
   },
   "source": [
    "## **Model Evaluation**"
   ]
  },
  {
   "cell_type": "code",
   "execution_count": 178,
   "id": "3f78ea4b-7711-4071-900b-532edba195d1",
   "metadata": {},
   "outputs": [
    {
     "name": "stdout",
     "output_type": "stream",
     "text": [
      "149/149 [==============================] - 0s 2ms/step - loss: 0.3578 - accuracy: 0.8530\n"
     ]
    },
    {
     "data": {
      "text/plain": [
       "[0.3578225374221802, 0.852996826171875]"
      ]
     },
     "execution_count": 178,
     "metadata": {},
     "output_type": "execute_result"
    }
   ],
   "source": [
    "final_model.evaluate(X_test, y_test)"
   ]
  },
  {
   "cell_type": "code",
   "execution_count": 179,
   "id": "dc4ffc06-b694-4d0a-b3c2-6001531ebd37",
   "metadata": {},
   "outputs": [
    {
     "name": "stdout",
     "output_type": "stream",
     "text": [
      "149/149 [==============================] - 0s 1ms/step\n"
     ]
    },
    {
     "data": {
      "text/plain": [
       "array([0, 0, 0, ..., 0, 0, 0])"
      ]
     },
     "execution_count": 179,
     "metadata": {},
     "output_type": "execute_result"
    }
   ],
   "source": [
    "y_pred = final_model.predict(X_test).flatten()\n",
    "y_pred = (y_pred>0.5).astype('int')\n",
    "y_pred"
   ]
  },
  {
   "cell_type": "code",
   "execution_count": 180,
   "id": "045f741e-6ddc-4781-a9af-3267202ed463",
   "metadata": {},
   "outputs": [
    {
     "data": {
      "text/plain": [
       "array([[2883,  219],\n",
       "       [ 480, 1173]], dtype=int64)"
      ]
     },
     "execution_count": 180,
     "metadata": {},
     "output_type": "execute_result"
    }
   ],
   "source": [
    "confusion_matrix(y_test, y_pred)"
   ]
  },
  {
   "cell_type": "code",
   "execution_count": 181,
   "id": "0979167c-86d4-4de7-8877-14d4725c3784",
   "metadata": {},
   "outputs": [
    {
     "data": {
      "text/plain": [
       "0.8529968454258675"
      ]
     },
     "execution_count": 181,
     "metadata": {},
     "output_type": "execute_result"
    }
   ],
   "source": [
    "accuracy_score(y_test, y_pred)"
   ]
  },
  {
   "cell_type": "code",
   "execution_count": 182,
   "id": "98d88c2e-fb74-4fe9-bdb8-5bc3e180e2cb",
   "metadata": {},
   "outputs": [
    {
     "data": {
      "text/plain": [
       "0.7704433497536947"
      ]
     },
     "execution_count": 182,
     "metadata": {},
     "output_type": "execute_result"
    }
   ],
   "source": [
    "f1_score(y_test, y_pred)"
   ]
  },
  {
   "cell_type": "markdown",
   "id": "bb1b8705-3dc4-4a8e-b16a-d0c51a15e767",
   "metadata": {},
   "source": [
    "#### The best model from the hyper tuned models gives an accuracy of 85.29% and f1 score of 77.04%"
   ]
  },
  {
   "cell_type": "code",
   "execution_count": null,
   "id": "ed8f7c0c-2f8e-4192-83bf-b0b530e8a139",
   "metadata": {},
   "outputs": [],
   "source": []
  }
 ],
 "metadata": {
  "kernelspec": {
   "display_name": "Python 3 (ipykernel)",
   "language": "python",
   "name": "python3"
  },
  "language_info": {
   "codemirror_mode": {
    "name": "ipython",
    "version": 3
   },
   "file_extension": ".py",
   "mimetype": "text/x-python",
   "name": "python",
   "nbconvert_exporter": "python",
   "pygments_lexer": "ipython3",
   "version": "3.9.12"
  }
 },
 "nbformat": 4,
 "nbformat_minor": 5
}
